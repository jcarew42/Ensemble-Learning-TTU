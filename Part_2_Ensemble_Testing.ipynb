{
 "cells": [
  {
   "cell_type": "markdown",
   "id": "a202c577-8e68-4e0e-8c8e-a8cadb1385dd",
   "metadata": {},
   "source": [
    "# Ensemble Testing"
   ]
  },
  {
   "cell_type": "markdown",
   "id": "19b6f40f",
   "metadata": {},
   "source": [
    "## Overview"
   ]
  },
  {
   "cell_type": "markdown",
   "id": "f1d3fab4-fadf-4391-9bae-3f48b32b088f",
   "metadata": {},
   "source": [
    "We have created a python module that makes the homogeneous ensemble callable.  The module is `homogeneous_ensemble.py`."
   ]
  },
  {
   "cell_type": "code",
   "execution_count": 1,
   "id": "8463c64c-0c83-460d-8535-e06d967b0d88",
   "metadata": {},
   "outputs": [],
   "source": [
    "import homogeneous_ensemble as he"
   ]
  },
  {
   "cell_type": "markdown",
   "id": "e0f3672a",
   "metadata": {},
   "source": [
    "The following cell imports some of the required modules from SciKit-Learn, as well as some standard Python modules."
   ]
  },
  {
   "cell_type": "code",
   "execution_count": 35,
   "id": "656cede2-0cbb-424b-8a5a-f5f887aaf6b6",
   "metadata": {},
   "outputs": [],
   "source": [
    "#  Required for SciKit-Learn to function properly\n",
    "import numpy as np\n",
    "import pandas as pd\n",
    "\n",
    "#  SciKit-Learn algorithms\n",
    "from sklearn.svm import SVR\n",
    "from sklearn.tree import DecisionTreeClassifier\n",
    "from sklearn.metrics import mean_squared_error\n",
    "from sklearn.neighbors import KNeighborsClassifier\n",
    "from sklearn.preprocessing import OneHotEncoder\n",
    "from sklearn.ensemble import RandomForestClassifier, GradientBoostingClassifier\n",
    "\n",
    "#  Standard Python\n",
    "import time  #  Used for timing algorithms\n",
    "import random\n",
    "\n",
    "#  Data Import and Processing\n",
    "abalone = pd.read_csv(\"abalone.csv\")\n",
    "oe_style = OneHotEncoder()\n",
    "oe_results = oe_style.fit_transform(abalone[[\"Sex\"]])\n",
    "\n",
    "abalone = pd.DataFrame(oe_results.toarray(), columns=oe_style.categories_).join(abalone)\n",
    "abalone = abalone.drop(\"Sex\", axis=1)"
   ]
  },
  {
   "cell_type": "markdown",
   "id": "51393b10",
   "metadata": {},
   "source": [
    "Below, we split our data into training and validation partitions."
   ]
  },
  {
   "cell_type": "code",
   "execution_count": 3,
   "id": "31bf600f-a102-4977-b8ce-d81b8abb1262",
   "metadata": {},
   "outputs": [
    {
     "data": {
      "text/html": [
       "<div>\n",
       "<style scoped>\n",
       "    .dataframe tbody tr th:only-of-type {\n",
       "        vertical-align: middle;\n",
       "    }\n",
       "\n",
       "    .dataframe tbody tr th {\n",
       "        vertical-align: top;\n",
       "    }\n",
       "\n",
       "    .dataframe thead th {\n",
       "        text-align: right;\n",
       "    }\n",
       "</style>\n",
       "<table border=\"1\" class=\"dataframe\">\n",
       "  <thead>\n",
       "    <tr style=\"text-align: right;\">\n",
       "      <th></th>\n",
       "      <th>(F,)</th>\n",
       "      <th>(I,)</th>\n",
       "      <th>(M,)</th>\n",
       "      <th>Length</th>\n",
       "      <th>Diameter</th>\n",
       "      <th>Height</th>\n",
       "      <th>Whole_weight</th>\n",
       "      <th>Shucked_weight</th>\n",
       "      <th>Viscera_weight</th>\n",
       "      <th>Shell_weight</th>\n",
       "      <th>Rings</th>\n",
       "    </tr>\n",
       "  </thead>\n",
       "  <tbody>\n",
       "    <tr>\n",
       "      <th>3526</th>\n",
       "      <td>0.0</td>\n",
       "      <td>1.0</td>\n",
       "      <td>0.0</td>\n",
       "      <td>0.615</td>\n",
       "      <td>0.460</td>\n",
       "      <td>0.190</td>\n",
       "      <td>1.0660</td>\n",
       "      <td>0.4335</td>\n",
       "      <td>0.226</td>\n",
       "      <td>0.330</td>\n",
       "      <td>13</td>\n",
       "    </tr>\n",
       "    <tr>\n",
       "      <th>2936</th>\n",
       "      <td>1.0</td>\n",
       "      <td>0.0</td>\n",
       "      <td>0.0</td>\n",
       "      <td>0.575</td>\n",
       "      <td>0.480</td>\n",
       "      <td>0.150</td>\n",
       "      <td>0.8745</td>\n",
       "      <td>0.3750</td>\n",
       "      <td>0.193</td>\n",
       "      <td>0.290</td>\n",
       "      <td>12</td>\n",
       "    </tr>\n",
       "    <tr>\n",
       "      <th>3002</th>\n",
       "      <td>0.0</td>\n",
       "      <td>1.0</td>\n",
       "      <td>0.0</td>\n",
       "      <td>0.575</td>\n",
       "      <td>0.475</td>\n",
       "      <td>0.170</td>\n",
       "      <td>0.9670</td>\n",
       "      <td>0.3775</td>\n",
       "      <td>0.284</td>\n",
       "      <td>0.275</td>\n",
       "      <td>13</td>\n",
       "    </tr>\n",
       "    <tr>\n",
       "      <th>2975</th>\n",
       "      <td>1.0</td>\n",
       "      <td>0.0</td>\n",
       "      <td>0.0</td>\n",
       "      <td>0.620</td>\n",
       "      <td>0.500</td>\n",
       "      <td>0.175</td>\n",
       "      <td>1.1460</td>\n",
       "      <td>0.4770</td>\n",
       "      <td>0.230</td>\n",
       "      <td>0.390</td>\n",
       "      <td>13</td>\n",
       "    </tr>\n",
       "    <tr>\n",
       "      <th>529</th>\n",
       "      <td>1.0</td>\n",
       "      <td>0.0</td>\n",
       "      <td>0.0</td>\n",
       "      <td>0.410</td>\n",
       "      <td>0.305</td>\n",
       "      <td>0.100</td>\n",
       "      <td>0.3630</td>\n",
       "      <td>0.1735</td>\n",
       "      <td>0.065</td>\n",
       "      <td>0.110</td>\n",
       "      <td>11</td>\n",
       "    </tr>\n",
       "  </tbody>\n",
       "</table>\n",
       "</div>"
      ],
      "text/plain": [
       "      (F,)  (I,)  (M,)  Length  Diameter  Height  Whole_weight  \\\n",
       "3526   0.0   1.0   0.0   0.615     0.460   0.190        1.0660   \n",
       "2936   1.0   0.0   0.0   0.575     0.480   0.150        0.8745   \n",
       "3002   0.0   1.0   0.0   0.575     0.475   0.170        0.9670   \n",
       "2975   1.0   0.0   0.0   0.620     0.500   0.175        1.1460   \n",
       "529    1.0   0.0   0.0   0.410     0.305   0.100        0.3630   \n",
       "\n",
       "      Shucked_weight  Viscera_weight  Shell_weight  Rings  \n",
       "3526          0.4335           0.226         0.330     13  \n",
       "2936          0.3750           0.193         0.290     12  \n",
       "3002          0.3775           0.284         0.275     13  \n",
       "2975          0.4770           0.230         0.390     13  \n",
       "529           0.1735           0.065         0.110     11  "
      ]
     },
     "execution_count": 3,
     "metadata": {},
     "output_type": "execute_result"
    }
   ],
   "source": [
    "training, valid = he.split_train_test(abalone, 0.2)\n",
    "training.head()"
   ]
  },
  {
   "cell_type": "markdown",
   "id": "720a3bff",
   "metadata": {},
   "source": [
    "We now test our imported algorithm.  We will restrict the ensemble to using only the support vector regression as its base algorithm."
   ]
  },
  {
   "cell_type": "code",
   "execution_count": 23,
   "id": "fc926dcf-47d5-49d6-a35a-529533cb2de4",
   "metadata": {},
   "outputs": [
    {
     "name": "stdout",
     "output_type": "stream",
     "text": [
      "The weights for predictor 0 and predictor 1, resp., are: [0.22903060914341677, 0.2000998925150517]\n",
      "The intercept for predictor 0 is:  [9.98579125]\n",
      "The intercept for predictor 1 is:  [9.75556279]\n"
     ]
    }
   ],
   "source": [
    "weights, predictors = he.homog_ens(training, 1, 2)\n",
    "print(\"The weights for predictor 0 and predictor 1, resp., are:\", weights)\n",
    "print(\"The intercept for predictor 0 is: \", predictors[0].intercept_)\n",
    "print(\"The intercept for predictor 1 is: \", predictors[1].intercept_)"
   ]
  },
  {
   "cell_type": "markdown",
   "id": "235e497f",
   "metadata": {},
   "source": [
    "Next, we'll check to see what the validation set looks like."
   ]
  },
  {
   "cell_type": "code",
   "execution_count": 6,
   "id": "384ee2a2-8dc2-4686-81be-ca81e54b15ec",
   "metadata": {},
   "outputs": [
    {
     "data": {
      "text/html": [
       "<div>\n",
       "<style scoped>\n",
       "    .dataframe tbody tr th:only-of-type {\n",
       "        vertical-align: middle;\n",
       "    }\n",
       "\n",
       "    .dataframe tbody tr th {\n",
       "        vertical-align: top;\n",
       "    }\n",
       "\n",
       "    .dataframe thead th {\n",
       "        text-align: right;\n",
       "    }\n",
       "</style>\n",
       "<table border=\"1\" class=\"dataframe\">\n",
       "  <thead>\n",
       "    <tr style=\"text-align: right;\">\n",
       "      <th></th>\n",
       "      <th>(F,)</th>\n",
       "      <th>(I,)</th>\n",
       "      <th>(M,)</th>\n",
       "      <th>Length</th>\n",
       "      <th>Diameter</th>\n",
       "      <th>Height</th>\n",
       "      <th>Whole_weight</th>\n",
       "      <th>Shucked_weight</th>\n",
       "      <th>Viscera_weight</th>\n",
       "      <th>Shell_weight</th>\n",
       "    </tr>\n",
       "  </thead>\n",
       "  <tbody>\n",
       "    <tr>\n",
       "      <th>939</th>\n",
       "      <td>1.0</td>\n",
       "      <td>0.0</td>\n",
       "      <td>0.0</td>\n",
       "      <td>0.660</td>\n",
       "      <td>0.505</td>\n",
       "      <td>0.185</td>\n",
       "      <td>1.5280</td>\n",
       "      <td>0.6900</td>\n",
       "      <td>0.3025</td>\n",
       "      <td>0.4410</td>\n",
       "    </tr>\n",
       "    <tr>\n",
       "      <th>1326</th>\n",
       "      <td>1.0</td>\n",
       "      <td>0.0</td>\n",
       "      <td>0.0</td>\n",
       "      <td>0.495</td>\n",
       "      <td>0.380</td>\n",
       "      <td>0.120</td>\n",
       "      <td>0.5730</td>\n",
       "      <td>0.2655</td>\n",
       "      <td>0.1285</td>\n",
       "      <td>0.1440</td>\n",
       "    </tr>\n",
       "    <tr>\n",
       "      <th>2428</th>\n",
       "      <td>0.0</td>\n",
       "      <td>0.0</td>\n",
       "      <td>1.0</td>\n",
       "      <td>0.670</td>\n",
       "      <td>0.510</td>\n",
       "      <td>0.180</td>\n",
       "      <td>1.6800</td>\n",
       "      <td>0.9260</td>\n",
       "      <td>0.2975</td>\n",
       "      <td>0.3935</td>\n",
       "    </tr>\n",
       "    <tr>\n",
       "      <th>1047</th>\n",
       "      <td>0.0</td>\n",
       "      <td>0.0</td>\n",
       "      <td>1.0</td>\n",
       "      <td>0.605</td>\n",
       "      <td>0.475</td>\n",
       "      <td>0.140</td>\n",
       "      <td>1.1175</td>\n",
       "      <td>0.5550</td>\n",
       "      <td>0.2570</td>\n",
       "      <td>0.2740</td>\n",
       "    </tr>\n",
       "    <tr>\n",
       "      <th>1109</th>\n",
       "      <td>0.0</td>\n",
       "      <td>1.0</td>\n",
       "      <td>0.0</td>\n",
       "      <td>0.350</td>\n",
       "      <td>0.255</td>\n",
       "      <td>0.090</td>\n",
       "      <td>0.1785</td>\n",
       "      <td>0.0855</td>\n",
       "      <td>0.0305</td>\n",
       "      <td>0.0525</td>\n",
       "    </tr>\n",
       "  </tbody>\n",
       "</table>\n",
       "</div>"
      ],
      "text/plain": [
       "      (F,)  (I,)  (M,)  Length  Diameter  Height  Whole_weight  \\\n",
       "939    1.0   0.0   0.0   0.660     0.505   0.185        1.5280   \n",
       "1326   1.0   0.0   0.0   0.495     0.380   0.120        0.5730   \n",
       "2428   0.0   0.0   1.0   0.670     0.510   0.180        1.6800   \n",
       "1047   0.0   0.0   1.0   0.605     0.475   0.140        1.1175   \n",
       "1109   0.0   1.0   0.0   0.350     0.255   0.090        0.1785   \n",
       "\n",
       "      Shucked_weight  Viscera_weight  Shell_weight  \n",
       "939           0.6900          0.3025        0.4410  \n",
       "1326          0.2655          0.1285        0.1440  \n",
       "2428          0.9260          0.2975        0.3935  \n",
       "1047          0.5550          0.2570        0.2740  \n",
       "1109          0.0855          0.0305        0.0525  "
      ]
     },
     "execution_count": 6,
     "metadata": {},
     "output_type": "execute_result"
    }
   ],
   "source": [
    "X_valid = valid.iloc[:,0:-1]\n",
    "Y_valid = valid.iloc[:,-1]\n",
    "\n",
    "X_valid.iloc[:5,:]"
   ]
  },
  {
   "cell_type": "markdown",
   "id": "f46d9365",
   "metadata": {},
   "source": [
    "We will store the predictions of each predictor in a list."
   ]
  },
  {
   "cell_type": "code",
   "execution_count": 24,
   "id": "71860af7-2bb7-4fe6-813a-ebcf172e2f7c",
   "metadata": {},
   "outputs": [
    {
     "data": {
      "text/plain": [
       "array([11.08968025,  9.28289035,  9.85818996,  9.35739023,  6.21958492])"
      ]
     },
     "execution_count": 24,
     "metadata": {},
     "output_type": "execute_result"
    }
   ],
   "source": [
    "predictions = []\n",
    "for p in predictors:\n",
    "    predictions.append(p.predict(X_valid))\n",
    "    \n",
    "predictions[0][0:5]"
   ]
  },
  {
   "cell_type": "markdown",
   "id": "32b87877",
   "metadata": {},
   "source": [
    "The following cell shows how the 'mean_squared_error' procedure is used in Python.  We use our weak predictors for demonstration."
   ]
  },
  {
   "cell_type": "code",
   "execution_count": 27,
   "id": "2b60b445-87fc-474c-8506-f8e5388a1630",
   "metadata": {},
   "outputs": [
    {
     "name": "stdout",
     "output_type": "stream",
     "text": [
      "5.321578092199089 5.421979723989206\n"
     ]
    }
   ],
   "source": [
    "print(mean_squared_error(predictions[0], Y_valid), mean_squared_error(predictions[1], Y_valid))"
   ]
  },
  {
   "cell_type": "markdown",
   "id": "f6e91e03",
   "metadata": {},
   "source": [
    "The following cell shows how the final predictions and MSE calculations will be made. "
   ]
  },
  {
   "cell_type": "code",
   "execution_count": 29,
   "id": "656626b3-2161-441a-99cb-eb29e38e12b6",
   "metadata": {},
   "outputs": [
    {
     "name": "stdout",
     "output_type": "stream",
     "text": [
      "Ensemble MSE: 5.3655418553187095\n"
     ]
    }
   ],
   "source": [
    "#  We need to initialize a few variables\n",
    "num = 0  #  Will be the numerator for the final prediction\n",
    "j = 0  #  Used to access predictors\n",
    "weight_sum = 0  #  Will be the denominator for the final prediction\n",
    "\n",
    "while (j < len(weights)):\n",
    "        num += weights[j]*predictions[j]  #  Numerator from first 'j' terms\n",
    "        weight_sum += weights[j]          #  Denominator from first 'j' weights\n",
    "        j+=1\n",
    "        \n",
    "#  After the while loop is finished, we'll have the components for our ensembled prediction\n",
    "guess = num / weight_sum  #  Final predictions\n",
    "mse = mean_squared_error(guess, Y_valid)  #  MSE for ensemble\n",
    "\n",
    "print(\"Ensemble MSE:\", mse)"
   ]
  },
  {
   "cell_type": "markdown",
   "id": "d6ce0715",
   "metadata": {},
   "source": [
    "We will create a table for holding MSE's and algorithm runtimes."
   ]
  },
  {
   "cell_type": "code",
   "execution_count": 30,
   "id": "7c8df3a8-be02-4ee0-bb50-436de3ea804f",
   "metadata": {},
   "outputs": [
    {
     "name": "stdout",
     "output_type": "stream",
     "text": [
      "MSE's and Times for ensembles of 25 predictors each.\n"
     ]
    },
    {
     "data": {
      "text/html": [
       "<div>\n",
       "<style scoped>\n",
       "    .dataframe tbody tr th:only-of-type {\n",
       "        vertical-align: middle;\n",
       "    }\n",
       "\n",
       "    .dataframe tbody tr th {\n",
       "        vertical-align: top;\n",
       "    }\n",
       "\n",
       "    .dataframe thead th {\n",
       "        text-align: right;\n",
       "    }\n",
       "</style>\n",
       "<table border=\"1\" class=\"dataframe\">\n",
       "  <thead>\n",
       "    <tr style=\"text-align: right;\">\n",
       "      <th></th>\n",
       "      <th>Algorithm</th>\n",
       "      <th>MSE</th>\n",
       "      <th>Time</th>\n",
       "    </tr>\n",
       "  </thead>\n",
       "  <tbody>\n",
       "    <tr>\n",
       "      <th>0</th>\n",
       "      <td>DecisionTree</td>\n",
       "      <td>0</td>\n",
       "      <td>0</td>\n",
       "    </tr>\n",
       "    <tr>\n",
       "      <th>1</th>\n",
       "      <td>SVR</td>\n",
       "      <td>0</td>\n",
       "      <td>0</td>\n",
       "    </tr>\n",
       "    <tr>\n",
       "      <th>2</th>\n",
       "      <td>kNN</td>\n",
       "      <td>0</td>\n",
       "      <td>0</td>\n",
       "    </tr>\n",
       "    <tr>\n",
       "      <th>3</th>\n",
       "      <td>RandomForest</td>\n",
       "      <td>0</td>\n",
       "      <td>0</td>\n",
       "    </tr>\n",
       "    <tr>\n",
       "      <th>4</th>\n",
       "      <td>Gradient</td>\n",
       "      <td>0</td>\n",
       "      <td>0</td>\n",
       "    </tr>\n",
       "  </tbody>\n",
       "</table>\n",
       "</div>"
      ],
      "text/plain": [
       "      Algorithm  MSE  Time\n",
       "0  DecisionTree    0     0\n",
       "1           SVR    0     0\n",
       "2           kNN    0     0\n",
       "3  RandomForest    0     0\n",
       "4      Gradient    0     0"
      ]
     },
     "execution_count": 30,
     "metadata": {},
     "output_type": "execute_result"
    }
   ],
   "source": [
    "table_1 = [[\"DecisionTree\",0,0],[\"SVR\",0,0],[\"kNN\",0,0],[\"RandomForest\",0,0],[\"Gradient\",0,0]]\n",
    "cols = [\"Algorithm\", \"MSE\", \"Time\"]\n",
    "table_1 = pd.DataFrame(table_1, columns=cols)\n",
    "print(\"MSE's and Times for ensembles of\", 25, \"predictors each.\")\n",
    "table_1"
   ]
  },
  {
   "cell_type": "markdown",
   "id": "5fc6d927",
   "metadata": {},
   "source": [
    "The following cell is needed to avoid pages of deprecation warnings."
   ]
  },
  {
   "cell_type": "code",
   "execution_count": 33,
   "id": "f6036216-a6c0-40dc-a005-3b5e4166855e",
   "metadata": {},
   "outputs": [],
   "source": [
    "import warnings\n",
    "warnings.simplefilter(action='ignore', category=FutureWarning) # setting ignore as a parameter and further adding category"
   ]
  },
  {
   "cell_type": "markdown",
   "id": "a373f665",
   "metadata": {},
   "source": [
    "## Comparing Ensemble Algorithms"
   ]
  },
  {
   "cell_type": "markdown",
   "id": "904c4ce6",
   "metadata": {},
   "source": [
    "We are finally ready to compare ensemble methods.  We run a loop to iterate through the homogeneous ensembles with base algorithms of decision trees, support vector regressors, and kNNs.  Following the loop, we run a random forest ensemble  and a gradient boosted ensemble to compare with.  In the first line of code, $n$ can be changed to adjust the number of predictors (or weak predictors) in each ensemble.  After the code is finished, a table will be presented with each respective ensemble's MSE and runtime."
   ]
  },
  {
   "cell_type": "code",
   "execution_count": 34,
   "id": "6c50a3f0-8e80-4095-84aa-fb018865e60d",
   "metadata": {},
   "outputs": [
    {
     "name": "stdout",
     "output_type": "stream",
     "text": [
      "\n",
      "MSE's and Times for ensembles of 256 predictors each\n"
     ]
    },
    {
     "data": {
      "text/html": [
       "<div>\n",
       "<style scoped>\n",
       "    .dataframe tbody tr th:only-of-type {\n",
       "        vertical-align: middle;\n",
       "    }\n",
       "\n",
       "    .dataframe tbody tr th {\n",
       "        vertical-align: top;\n",
       "    }\n",
       "\n",
       "    .dataframe thead th {\n",
       "        text-align: right;\n",
       "    }\n",
       "</style>\n",
       "<table border=\"1\" class=\"dataframe\">\n",
       "  <thead>\n",
       "    <tr style=\"text-align: right;\">\n",
       "      <th></th>\n",
       "      <th>Algorithm</th>\n",
       "      <th>MSE</th>\n",
       "      <th>Time</th>\n",
       "    </tr>\n",
       "  </thead>\n",
       "  <tbody>\n",
       "    <tr>\n",
       "      <th>0</th>\n",
       "      <td>DecisionTree</td>\n",
       "      <td>6.169857</td>\n",
       "      <td>2.215339</td>\n",
       "    </tr>\n",
       "    <tr>\n",
       "      <th>1</th>\n",
       "      <td>SVR</td>\n",
       "      <td>5.384239</td>\n",
       "      <td>212.035558</td>\n",
       "    </tr>\n",
       "    <tr>\n",
       "      <th>2</th>\n",
       "      <td>kNN</td>\n",
       "      <td>6.394593</td>\n",
       "      <td>14.100879</td>\n",
       "    </tr>\n",
       "    <tr>\n",
       "      <th>3</th>\n",
       "      <td>RandomForest</td>\n",
       "      <td>7.221823</td>\n",
       "      <td>1.801786</td>\n",
       "    </tr>\n",
       "    <tr>\n",
       "      <th>4</th>\n",
       "      <td>Gradient</td>\n",
       "      <td>6.833333</td>\n",
       "      <td>29.393640</td>\n",
       "    </tr>\n",
       "  </tbody>\n",
       "</table>\n",
       "</div>"
      ],
      "text/plain": [
       "      Algorithm       MSE        Time\n",
       "0  DecisionTree  6.169857    2.215339\n",
       "1           SVR  5.384239  212.035558\n",
       "2           kNN  6.394593   14.100879\n",
       "3  RandomForest  7.221823    1.801786\n",
       "4      Gradient  6.833333   29.393640"
      ]
     },
     "execution_count": 34,
     "metadata": {},
     "output_type": "execute_result"
    }
   ],
   "source": [
    "# Change 'n' to desired number of predictors for each ensemble\n",
    "n = 256\n",
    "\n",
    "#  Here is the loop for iterating through the homogeneous ensembles\n",
    "for i in range(0,3):\n",
    "    \n",
    "    #  Training\n",
    "    t0 = time.time()\n",
    "    weights, predictors = he.homog_ens(training, i, n)\n",
    "    \n",
    "    predictions = []\n",
    "    for p in predictors:\n",
    "        predictions.append(p.predict(X_valid))\n",
    "    \n",
    "    \n",
    "    num = 0\n",
    "    j = 0\n",
    "    weight_sum = 0\n",
    "    while (j < len(weights)):\n",
    "        num += weights[j]*predictions[j]\n",
    "        weight_sum += weights[j]\n",
    "        j+=1\n",
    "    \n",
    "    guess = num / weight_sum\n",
    "    \n",
    "    t1 = time.time()        \n",
    "        \n",
    "    table_1.loc[i,\"MSE\"] = mean_squared_error(guess, Y_valid)\n",
    "    table_1.loc[i,\"Time\"] = t1-t0\n",
    "\n",
    "#  Here is the creation of the random forest\n",
    "t0 = time.time()\n",
    "train_set, test_set = he.split_train_test(training, 0.2)\n",
    "X_vars = train_set.iloc[:,:-1]\n",
    "X_labels = train_set.iloc[:,-1]\n",
    "Y = X_labels.to_numpy()\n",
    "X = X_vars.to_numpy()\n",
    "\n",
    "rf = RandomForestClassifier(n_estimators=n, max_depth=5, max_features=None, bootstrap=False)\n",
    "rf.fit(X, Y)\n",
    "t1 = time.time()\n",
    "\n",
    "\n",
    "table_1.loc[3,\"MSE\"] = mean_squared_error(rf.predict(X_valid), Y_valid)\n",
    "table_1.loc[3,\"Time\"] = t1-t0\n",
    "\n",
    "#  Here is the creation of the gradient boosted ensemble\n",
    "t0 = time.time()\n",
    "train_set, test_set = he.split_train_test(training, 0.2)\n",
    "X_vars = train_set.iloc[:,:-1]\n",
    "X_labels = train_set.iloc[:,-1]\n",
    "Y = X_labels.to_numpy()\n",
    "X = X_vars.to_numpy()\n",
    "\n",
    "gb = GradientBoostingClassifier(n_estimators=n)\n",
    "gb.fit(X, Y)\n",
    "t1 = time.time()\n",
    "\n",
    "\n",
    "table_1.loc[4,\"MSE\"] = mean_squared_error(gb.predict(X_valid), Y_valid)\n",
    "table_1.loc[4,\"Time\"] = t1-t0\n",
    "\n",
    "print(\"\\nMSE's and Times for ensembles of\", n, \"predictors each\")\n",
    "table_1"
   ]
  },
  {
   "cell_type": "markdown",
   "id": "f424bac3",
   "metadata": {},
   "source": [
    "## Addressing a Peculiarity"
   ]
  },
  {
   "cell_type": "markdown",
   "id": "2536a2ce",
   "metadata": {},
   "source": [
    "You may have noticed the MSE for the DecisionTree based ensemble is significantly smaller than for the RandomForest.  While  random forests are ensembles of decision trees, these trees use random splits when training.  The DecisionTree in Python uses the \"best\" splitter by default.  If the \"splitter\" parameter is changed in the DecisionTree classifier call, we get comparable results with the RandomForest edging the DecisionTree ensemble slighty."
   ]
  }
 ],
 "metadata": {
  "kernelspec": {
   "display_name": "Python 3 (ipykernel)",
   "language": "python",
   "name": "python3"
  },
  "language_info": {
   "codemirror_mode": {
    "name": "ipython",
    "version": 3
   },
   "file_extension": ".py",
   "mimetype": "text/x-python",
   "name": "python",
   "nbconvert_exporter": "python",
   "pygments_lexer": "ipython3",
   "version": "3.9.13"
  }
 },
 "nbformat": 4,
 "nbformat_minor": 5
}

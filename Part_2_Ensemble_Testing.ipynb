{
 "cells": [
  {
   "cell_type": "markdown",
   "id": "a202c577-8e68-4e0e-8c8e-a8cadb1385dd",
   "metadata": {},
   "source": [
    "# Ensemble Testing (Under Construction)"
   ]
  },
  {
   "cell_type": "markdown",
   "id": "f1d3fab4-fadf-4391-9bae-3f48b32b088f",
   "metadata": {},
   "source": [
    "We have created a python module that makes the homogeneous ensemble callable.  The module is `homogeneous_ensemble.py`."
   ]
  },
  {
   "cell_type": "code",
   "execution_count": 1,
   "id": "8463c64c-0c83-460d-8535-e06d967b0d88",
   "metadata": {},
   "outputs": [],
   "source": [
    "import homogeneous_ensemble as he"
   ]
  },
  {
   "cell_type": "code",
   "execution_count": 2,
   "id": "656cede2-0cbb-424b-8a5a-f5f887aaf6b6",
   "metadata": {},
   "outputs": [
    {
     "data": {
      "text/plain": [
       "(4174, 11)"
      ]
     },
     "execution_count": 2,
     "metadata": {},
     "output_type": "execute_result"
    }
   ],
   "source": [
    "import numpy as np\n",
    "import pandas as pd\n",
    "\n",
    "import random\n",
    "from sklearn.svm import SVR\n",
    "from sklearn.tree import DecisionTreeClassifier\n",
    "from sklearn.metrics import mean_squared_error\n",
    "from sklearn.neighbors import KNeighborsClassifier\n",
    "from sklearn.preprocessing import OneHotEncoder\n",
    "from sklearn.ensemble import RandomForestClassifier, GradientBoostingClassifier\n",
    "\n",
    "import time\n",
    "\n",
    "abalone = pd.read_csv(\"abalone.csv\")\n",
    "oe_style = OneHotEncoder()\n",
    "oe_results = oe_style.fit_transform(abalone[[\"Sex\"]])\n",
    "\n",
    "abalone = pd.DataFrame(oe_results.toarray(), columns=oe_style.categories_).join(abalone)\n",
    "abalone = abalone.drop(\"Sex\", axis=1)\n",
    "abalone.shape"
   ]
  },
  {
   "cell_type": "code",
   "execution_count": 3,
   "id": "31bf600f-a102-4977-b8ce-d81b8abb1262",
   "metadata": {},
   "outputs": [
    {
     "data": {
      "text/html": [
       "<div>\n",
       "<style scoped>\n",
       "    .dataframe tbody tr th:only-of-type {\n",
       "        vertical-align: middle;\n",
       "    }\n",
       "\n",
       "    .dataframe tbody tr th {\n",
       "        vertical-align: top;\n",
       "    }\n",
       "\n",
       "    .dataframe thead th {\n",
       "        text-align: right;\n",
       "    }\n",
       "</style>\n",
       "<table border=\"1\" class=\"dataframe\">\n",
       "  <thead>\n",
       "    <tr style=\"text-align: right;\">\n",
       "      <th></th>\n",
       "      <th>(F,)</th>\n",
       "      <th>(I,)</th>\n",
       "      <th>(M,)</th>\n",
       "      <th>Length</th>\n",
       "      <th>Diameter</th>\n",
       "      <th>Height</th>\n",
       "      <th>Whole_weight</th>\n",
       "      <th>Shucked_weight</th>\n",
       "      <th>Viscera_weight</th>\n",
       "      <th>Shell_weight</th>\n",
       "      <th>Rings</th>\n",
       "    </tr>\n",
       "  </thead>\n",
       "  <tbody>\n",
       "    <tr>\n",
       "      <th>3723</th>\n",
       "      <td>1.0</td>\n",
       "      <td>0.0</td>\n",
       "      <td>0.0</td>\n",
       "      <td>0.635</td>\n",
       "      <td>0.495</td>\n",
       "      <td>0.175</td>\n",
       "      <td>1.2355</td>\n",
       "      <td>0.5205</td>\n",
       "      <td>0.3085</td>\n",
       "      <td>0.3470</td>\n",
       "      <td>10</td>\n",
       "    </tr>\n",
       "    <tr>\n",
       "      <th>2810</th>\n",
       "      <td>1.0</td>\n",
       "      <td>0.0</td>\n",
       "      <td>0.0</td>\n",
       "      <td>0.470</td>\n",
       "      <td>0.360</td>\n",
       "      <td>0.100</td>\n",
       "      <td>0.4705</td>\n",
       "      <td>0.1635</td>\n",
       "      <td>0.0890</td>\n",
       "      <td>0.1385</td>\n",
       "      <td>8</td>\n",
       "    </tr>\n",
       "    <tr>\n",
       "      <th>1909</th>\n",
       "      <td>0.0</td>\n",
       "      <td>0.0</td>\n",
       "      <td>1.0</td>\n",
       "      <td>0.320</td>\n",
       "      <td>0.240</td>\n",
       "      <td>0.080</td>\n",
       "      <td>0.1800</td>\n",
       "      <td>0.0800</td>\n",
       "      <td>0.0385</td>\n",
       "      <td>0.0550</td>\n",
       "      <td>6</td>\n",
       "    </tr>\n",
       "    <tr>\n",
       "      <th>573</th>\n",
       "      <td>0.0</td>\n",
       "      <td>1.0</td>\n",
       "      <td>0.0</td>\n",
       "      <td>0.475</td>\n",
       "      <td>0.365</td>\n",
       "      <td>0.115</td>\n",
       "      <td>0.4900</td>\n",
       "      <td>0.2230</td>\n",
       "      <td>0.1235</td>\n",
       "      <td>0.1335</td>\n",
       "      <td>9</td>\n",
       "    </tr>\n",
       "    <tr>\n",
       "      <th>1176</th>\n",
       "      <td>0.0</td>\n",
       "      <td>1.0</td>\n",
       "      <td>0.0</td>\n",
       "      <td>0.530</td>\n",
       "      <td>0.425</td>\n",
       "      <td>0.130</td>\n",
       "      <td>0.7675</td>\n",
       "      <td>0.4190</td>\n",
       "      <td>0.1205</td>\n",
       "      <td>0.2100</td>\n",
       "      <td>9</td>\n",
       "    </tr>\n",
       "  </tbody>\n",
       "</table>\n",
       "</div>"
      ],
      "text/plain": [
       "      (F,)  (I,)  (M,)  Length  Diameter  Height  Whole_weight  \\\n",
       "3723   1.0   0.0   0.0   0.635     0.495   0.175        1.2355   \n",
       "2810   1.0   0.0   0.0   0.470     0.360   0.100        0.4705   \n",
       "1909   0.0   0.0   1.0   0.320     0.240   0.080        0.1800   \n",
       "573    0.0   1.0   0.0   0.475     0.365   0.115        0.4900   \n",
       "1176   0.0   1.0   0.0   0.530     0.425   0.130        0.7675   \n",
       "\n",
       "      Shucked_weight  Viscera_weight  Shell_weight  Rings  \n",
       "3723          0.5205          0.3085        0.3470     10  \n",
       "2810          0.1635          0.0890        0.1385      8  \n",
       "1909          0.0800          0.0385        0.0550      6  \n",
       "573           0.2230          0.1235        0.1335      9  \n",
       "1176          0.4190          0.1205        0.2100      9  "
      ]
     },
     "execution_count": 3,
     "metadata": {},
     "output_type": "execute_result"
    }
   ],
   "source": [
    "training, valid = he.split_train_test(abalone, 0.2)\n",
    "training.head()"
   ]
  },
  {
   "cell_type": "code",
   "execution_count": 4,
   "id": "fc926dcf-47d5-49d6-a35a-529533cb2de4",
   "metadata": {},
   "outputs": [
    {
     "name": "stdout",
     "output_type": "stream",
     "text": [
      "[0.18105734369480506, 0.19776533402395963]\n"
     ]
    }
   ],
   "source": [
    "\n",
    "weights, predictors = he.homog_ens(training, 1, 2)\n",
    "print(weights)"
   ]
  },
  {
   "cell_type": "code",
   "execution_count": 5,
   "id": "6080ed14-0fff-4955-a884-3b27d9e51e62",
   "metadata": {},
   "outputs": [
    {
     "name": "stdout",
     "output_type": "stream",
     "text": [
      "[9.71078372]\n",
      "[9.81107547]\n"
     ]
    }
   ],
   "source": [
    "print(predictors[0].intercept_)\n",
    "print(predictors[1].intercept_)"
   ]
  },
  {
   "cell_type": "code",
   "execution_count": 6,
   "id": "384ee2a2-8dc2-4686-81be-ca81e54b15ec",
   "metadata": {},
   "outputs": [
    {
     "data": {
      "text/html": [
       "<div>\n",
       "<style scoped>\n",
       "    .dataframe tbody tr th:only-of-type {\n",
       "        vertical-align: middle;\n",
       "    }\n",
       "\n",
       "    .dataframe tbody tr th {\n",
       "        vertical-align: top;\n",
       "    }\n",
       "\n",
       "    .dataframe thead th {\n",
       "        text-align: right;\n",
       "    }\n",
       "</style>\n",
       "<table border=\"1\" class=\"dataframe\">\n",
       "  <thead>\n",
       "    <tr style=\"text-align: right;\">\n",
       "      <th></th>\n",
       "      <th>(F,)</th>\n",
       "      <th>(I,)</th>\n",
       "      <th>(M,)</th>\n",
       "      <th>Length</th>\n",
       "      <th>Diameter</th>\n",
       "      <th>Height</th>\n",
       "      <th>Whole_weight</th>\n",
       "      <th>Shucked_weight</th>\n",
       "      <th>Viscera_weight</th>\n",
       "      <th>Shell_weight</th>\n",
       "    </tr>\n",
       "  </thead>\n",
       "  <tbody>\n",
       "    <tr>\n",
       "      <th>2704</th>\n",
       "      <td>0.0</td>\n",
       "      <td>0.0</td>\n",
       "      <td>1.0</td>\n",
       "      <td>0.645</td>\n",
       "      <td>0.505</td>\n",
       "      <td>0.185</td>\n",
       "      <td>1.463</td>\n",
       "      <td>0.5920</td>\n",
       "      <td>0.3905</td>\n",
       "      <td>0.4160</td>\n",
       "    </tr>\n",
       "    <tr>\n",
       "      <th>1629</th>\n",
       "      <td>0.0</td>\n",
       "      <td>0.0</td>\n",
       "      <td>1.0</td>\n",
       "      <td>0.635</td>\n",
       "      <td>0.495</td>\n",
       "      <td>0.195</td>\n",
       "      <td>1.172</td>\n",
       "      <td>0.4450</td>\n",
       "      <td>0.3115</td>\n",
       "      <td>0.3475</td>\n",
       "    </tr>\n",
       "    <tr>\n",
       "      <th>2164</th>\n",
       "      <td>0.0</td>\n",
       "      <td>1.0</td>\n",
       "      <td>0.0</td>\n",
       "      <td>0.500</td>\n",
       "      <td>0.395</td>\n",
       "      <td>0.120</td>\n",
       "      <td>0.537</td>\n",
       "      <td>0.2165</td>\n",
       "      <td>0.1085</td>\n",
       "      <td>0.1785</td>\n",
       "    </tr>\n",
       "    <tr>\n",
       "      <th>614</th>\n",
       "      <td>0.0</td>\n",
       "      <td>0.0</td>\n",
       "      <td>1.0</td>\n",
       "      <td>0.540</td>\n",
       "      <td>0.415</td>\n",
       "      <td>0.145</td>\n",
       "      <td>0.740</td>\n",
       "      <td>0.2635</td>\n",
       "      <td>0.1680</td>\n",
       "      <td>0.2450</td>\n",
       "    </tr>\n",
       "    <tr>\n",
       "      <th>752</th>\n",
       "      <td>0.0</td>\n",
       "      <td>0.0</td>\n",
       "      <td>1.0</td>\n",
       "      <td>0.415</td>\n",
       "      <td>0.305</td>\n",
       "      <td>0.100</td>\n",
       "      <td>0.325</td>\n",
       "      <td>0.1560</td>\n",
       "      <td>0.0505</td>\n",
       "      <td>0.0910</td>\n",
       "    </tr>\n",
       "  </tbody>\n",
       "</table>\n",
       "</div>"
      ],
      "text/plain": [
       "      (F,)  (I,)  (M,)  Length  Diameter  Height  Whole_weight  \\\n",
       "2704   0.0   0.0   1.0   0.645     0.505   0.185         1.463   \n",
       "1629   0.0   0.0   1.0   0.635     0.495   0.195         1.172   \n",
       "2164   0.0   1.0   0.0   0.500     0.395   0.120         0.537   \n",
       "614    0.0   0.0   1.0   0.540     0.415   0.145         0.740   \n",
       "752    0.0   0.0   1.0   0.415     0.305   0.100         0.325   \n",
       "\n",
       "      Shucked_weight  Viscera_weight  Shell_weight  \n",
       "2704          0.5920          0.3905        0.4160  \n",
       "1629          0.4450          0.3115        0.3475  \n",
       "2164          0.2165          0.1085        0.1785  \n",
       "614           0.2635          0.1680        0.2450  \n",
       "752           0.1560          0.0505        0.0910  "
      ]
     },
     "execution_count": 6,
     "metadata": {},
     "output_type": "execute_result"
    }
   ],
   "source": [
    "X_valid = valid.iloc[:,0:-1]\n",
    "Y_valid = valid.iloc[:,-1]\n",
    "\n",
    "X_valid.iloc[:5,:]"
   ]
  },
  {
   "cell_type": "code",
   "execution_count": 7,
   "id": "71860af7-2bb7-4fe6-813a-ebcf172e2f7c",
   "metadata": {},
   "outputs": [
    {
     "name": "stderr",
     "output_type": "stream",
     "text": [
      "/home/jeremy/anaconda3/lib/python3.9/site-packages/sklearn/utils/validation.py:1688: FutureWarning: Feature names only support names that are all strings. Got feature names with dtypes: ['str', 'tuple']. An error will be raised in 1.2.\n",
      "  warnings.warn(\n",
      "/home/jeremy/anaconda3/lib/python3.9/site-packages/sklearn/utils/validation.py:1688: FutureWarning: Feature names only support names that are all strings. Got feature names with dtypes: ['str', 'tuple']. An error will be raised in 1.2.\n",
      "  warnings.warn(\n"
     ]
    }
   ],
   "source": [
    "predictions = []\n",
    "for p in predictors:\n",
    "    predictions.append(p.predict(X_valid))"
   ]
  },
  {
   "cell_type": "code",
   "execution_count": 8,
   "id": "6540d58a-3c65-419c-b5b3-8f170aa6a90f",
   "metadata": {},
   "outputs": [
    {
     "data": {
      "text/plain": [
       "array([11.81926833, 11.69837018,  8.62896118, 10.80138569,  8.14701265])"
      ]
     },
     "execution_count": 8,
     "metadata": {},
     "output_type": "execute_result"
    }
   ],
   "source": [
    "predictions[0][0:5]"
   ]
  },
  {
   "cell_type": "code",
   "execution_count": 9,
   "id": "2b60b445-87fc-474c-8506-f8e5388a1630",
   "metadata": {},
   "outputs": [
    {
     "data": {
      "text/plain": [
       "5.425042535403968"
      ]
     },
     "execution_count": 9,
     "metadata": {},
     "output_type": "execute_result"
    }
   ],
   "source": [
    "mean_squared_error(predictions[0], Y_valid)"
   ]
  },
  {
   "cell_type": "code",
   "execution_count": 10,
   "id": "802ff5c7-20bb-4d0d-aac1-d431bc6e9b43",
   "metadata": {},
   "outputs": [
    {
     "data": {
      "text/plain": [
       "5.305178755980408"
      ]
     },
     "execution_count": 10,
     "metadata": {},
     "output_type": "execute_result"
    }
   ],
   "source": [
    "mean_squared_error(predictions[1], Y_valid)"
   ]
  },
  {
   "cell_type": "code",
   "execution_count": 11,
   "id": "656626b3-2161-441a-99cb-eb29e38e12b6",
   "metadata": {},
   "outputs": [
    {
     "name": "stdout",
     "output_type": "stream",
     "text": [
      "0.37882267771876466\n"
     ]
    }
   ],
   "source": [
    "#weights[0]*predictions[0]\n",
    "num = 0\n",
    "j = 0\n",
    "weight_sum = 0\n",
    "while (j < len(weights)):\n",
    "        num += weights[j]*predictions[j]\n",
    "        weight_sum += weights[j]\n",
    "        j+=1\n",
    "print(weight_sum)"
   ]
  },
  {
   "cell_type": "code",
   "execution_count": 12,
   "id": "d6b6d08d-f008-4750-99a2-0d38e49a6eb3",
   "metadata": {},
   "outputs": [
    {
     "data": {
      "text/plain": [
       "5.359120590331483"
      ]
     },
     "execution_count": 12,
     "metadata": {},
     "output_type": "execute_result"
    }
   ],
   "source": [
    "guess = num / weight_sum\n",
    "mean_squared_error(guess, Y_valid)"
   ]
  },
  {
   "cell_type": "code",
   "execution_count": 13,
   "id": "7c8df3a8-be02-4ee0-bb50-436de3ea804f",
   "metadata": {},
   "outputs": [
    {
     "data": {
      "text/html": [
       "<div>\n",
       "<style scoped>\n",
       "    .dataframe tbody tr th:only-of-type {\n",
       "        vertical-align: middle;\n",
       "    }\n",
       "\n",
       "    .dataframe tbody tr th {\n",
       "        vertical-align: top;\n",
       "    }\n",
       "\n",
       "    .dataframe thead th {\n",
       "        text-align: right;\n",
       "    }\n",
       "</style>\n",
       "<table border=\"1\" class=\"dataframe\">\n",
       "  <thead>\n",
       "    <tr style=\"text-align: right;\">\n",
       "      <th></th>\n",
       "      <th>Algorithm</th>\n",
       "      <th>MSE</th>\n",
       "      <th>Time</th>\n",
       "    </tr>\n",
       "  </thead>\n",
       "  <tbody>\n",
       "    <tr>\n",
       "      <th>0</th>\n",
       "      <td>DecisionTree</td>\n",
       "      <td>0</td>\n",
       "      <td>0</td>\n",
       "    </tr>\n",
       "    <tr>\n",
       "      <th>1</th>\n",
       "      <td>SVR</td>\n",
       "      <td>0</td>\n",
       "      <td>0</td>\n",
       "    </tr>\n",
       "    <tr>\n",
       "      <th>2</th>\n",
       "      <td>kNN</td>\n",
       "      <td>0</td>\n",
       "      <td>0</td>\n",
       "    </tr>\n",
       "    <tr>\n",
       "      <th>3</th>\n",
       "      <td>RandomForest</td>\n",
       "      <td>0</td>\n",
       "      <td>0</td>\n",
       "    </tr>\n",
       "    <tr>\n",
       "      <th>4</th>\n",
       "      <td>Gradient</td>\n",
       "      <td>0</td>\n",
       "      <td>0</td>\n",
       "    </tr>\n",
       "  </tbody>\n",
       "</table>\n",
       "</div>"
      ],
      "text/plain": [
       "      Algorithm  MSE  Time\n",
       "0  DecisionTree    0     0\n",
       "1           SVR    0     0\n",
       "2           kNN    0     0\n",
       "3  RandomForest    0     0\n",
       "4      Gradient    0     0"
      ]
     },
     "execution_count": 13,
     "metadata": {},
     "output_type": "execute_result"
    }
   ],
   "source": [
    "table_1 = [[\"DecisionTree\",0,0],[\"SVR\",0,0],[\"kNN\",0,0],[\"RandomForest\",0,0],[\"Gradient\",0,0]]\n",
    "cols = [\"Algorithm\", \"MSE\", \"Time\"]\n",
    "table_1 = pd.DataFrame(table_1, columns=cols)\n",
    "table_1"
   ]
  },
  {
   "cell_type": "code",
   "execution_count": 14,
   "id": "f6036216-a6c0-40dc-a005-3b5e4166855e",
   "metadata": {},
   "outputs": [],
   "source": [
    "import warnings\n",
    "warnings.simplefilter(action='ignore', category=FutureWarning) # setting ignore as a parameter and further adding category"
   ]
  },
  {
   "cell_type": "code",
   "execution_count": 20,
   "id": "6c50a3f0-8e80-4095-84aa-fb018865e60d",
   "metadata": {},
   "outputs": [
    {
     "data": {
      "text/html": [
       "<div>\n",
       "<style scoped>\n",
       "    .dataframe tbody tr th:only-of-type {\n",
       "        vertical-align: middle;\n",
       "    }\n",
       "\n",
       "    .dataframe tbody tr th {\n",
       "        vertical-align: top;\n",
       "    }\n",
       "\n",
       "    .dataframe thead th {\n",
       "        text-align: right;\n",
       "    }\n",
       "</style>\n",
       "<table border=\"1\" class=\"dataframe\">\n",
       "  <thead>\n",
       "    <tr style=\"text-align: right;\">\n",
       "      <th></th>\n",
       "      <th>Algorithm</th>\n",
       "      <th>MSE</th>\n",
       "      <th>Time</th>\n",
       "    </tr>\n",
       "  </thead>\n",
       "  <tbody>\n",
       "    <tr>\n",
       "      <th>0</th>\n",
       "      <td>DecisionTree</td>\n",
       "      <td>6.967057</td>\n",
       "      <td>0.970813</td>\n",
       "    </tr>\n",
       "    <tr>\n",
       "      <th>1</th>\n",
       "      <td>SVR</td>\n",
       "      <td>5.370882</td>\n",
       "      <td>165.743170</td>\n",
       "    </tr>\n",
       "    <tr>\n",
       "      <th>2</th>\n",
       "      <td>kNN</td>\n",
       "      <td>6.283108</td>\n",
       "      <td>22.006831</td>\n",
       "    </tr>\n",
       "    <tr>\n",
       "      <th>3</th>\n",
       "      <td>RandomForest</td>\n",
       "      <td>6.699041</td>\n",
       "      <td>2.182540</td>\n",
       "    </tr>\n",
       "    <tr>\n",
       "      <th>4</th>\n",
       "      <td>Gradient</td>\n",
       "      <td>6.375300</td>\n",
       "      <td>39.572611</td>\n",
       "    </tr>\n",
       "  </tbody>\n",
       "</table>\n",
       "</div>"
      ],
      "text/plain": [
       "      Algorithm       MSE        Time\n",
       "0  DecisionTree  6.967057    0.970813\n",
       "1           SVR  5.370882  165.743170\n",
       "2           kNN  6.283108   22.006831\n",
       "3  RandomForest  6.699041    2.182540\n",
       "4      Gradient  6.375300   39.572611"
      ]
     },
     "execution_count": 20,
     "metadata": {},
     "output_type": "execute_result"
    }
   ],
   "source": [
    "n = 256\n",
    "\n",
    "for i in range(0,3):\n",
    "    \n",
    "    #  Training\n",
    "    t0 = time.time()\n",
    "    weights, predictors = he.homog_ens(training, i, n)\n",
    "    \n",
    "    predictions = []\n",
    "    for p in predictors:\n",
    "        predictions.append(p.predict(X_valid))\n",
    "    \n",
    "    \n",
    "    num = 0\n",
    "    j = 0\n",
    "    weight_sum = 0\n",
    "    while (j < len(weights)):\n",
    "        num += weights[j]*predictions[j]\n",
    "        weight_sum += weights[j]\n",
    "        j+=1\n",
    "    #print(weight_sum)\n",
    "    \n",
    "    guess = num / weight_sum\n",
    "    \n",
    "    t1 = time.time()\n",
    "    \n",
    "    # Predicting\n",
    "    #predictions = []\n",
    "    #for p in predictors:\n",
    "    #   predictions.append(p.predict(X_valid))\n",
    "        \n",
    "        \n",
    "    table_1.loc[i,\"MSE\"] = mean_squared_error(guess, Y_valid)\n",
    "    table_1.loc[i,\"Time\"] = t1-t0\n",
    "    \n",
    "t0 = time.time()\n",
    "train_set = training  #, test_set = he.split_train_test(training, 0.2)\n",
    "X_vars = train_set.iloc[:,:-1]\n",
    "X_labels = train_set.iloc[:,-1]\n",
    "Y = X_labels.to_numpy()\n",
    "X = X_vars.to_numpy()\n",
    "\n",
    "rf = RandomForestClassifier(n_estimators=n, max_depth=5, max_features=None, bootstrap=False)\n",
    "rf.fit(X, Y)\n",
    "t1 = time.time()\n",
    "\n",
    "\n",
    "table_1.loc[3,\"MSE\"] = mean_squared_error(rf.predict(X_valid), Y_valid)\n",
    "table_1.loc[3,\"Time\"] = t1-t0\n",
    "\n",
    "t0 = time.time()\n",
    "train_set = training #, test_set = he.split_train_test(training, 0.2)\n",
    "X_vars = train_set.iloc[:,:-1]\n",
    "X_labels = train_set.iloc[:,-1]\n",
    "Y = X_labels.to_numpy()\n",
    "X = X_vars.to_numpy()\n",
    "\n",
    "gb = GradientBoostingClassifier(n_estimators=n)\n",
    "gb.fit(X, Y)\n",
    "t1 = time.time()\n",
    "\n",
    "\n",
    "table_1.loc[4,\"MSE\"] = mean_squared_error(gb.predict(X_valid), Y_valid)\n",
    "table_1.loc[4,\"Time\"] = t1-t0\n",
    "\n",
    "table_1"
   ]
  },
  {
   "cell_type": "code",
   "execution_count": null,
   "id": "18a2d4b7-5fc6-4fad-b843-fed25ad27cd1",
   "metadata": {},
   "outputs": [],
   "source": []
  }
 ],
 "metadata": {
  "kernelspec": {
   "display_name": "Python 3 (ipykernel)",
   "language": "python",
   "name": "python3"
  },
  "language_info": {
   "codemirror_mode": {
    "name": "ipython",
    "version": 3
   },
   "file_extension": ".py",
   "mimetype": "text/x-python",
   "name": "python",
   "nbconvert_exporter": "python",
   "pygments_lexer": "ipython3",
   "version": "3.9.13"
  }
 },
 "nbformat": 4,
 "nbformat_minor": 5
}

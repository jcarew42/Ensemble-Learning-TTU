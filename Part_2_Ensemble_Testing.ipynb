{
 "cells": [
  {
   "cell_type": "markdown",
   "id": "a202c577-8e68-4e0e-8c8e-a8cadb1385dd",
   "metadata": {},
   "source": [
    "# Ensemble Testing (Under Construction)"
   ]
  },
  {
   "cell_type": "markdown",
   "id": "f1d3fab4-fadf-4391-9bae-3f48b32b088f",
   "metadata": {},
   "source": [
    "We have created a python module that makes the homogeneous ensemble callable.  The module is `homogeneous_ensemble.py`."
   ]
  },
  {
   "cell_type": "code",
   "execution_count": 1,
   "id": "8463c64c-0c83-460d-8535-e06d967b0d88",
   "metadata": {},
   "outputs": [],
   "source": [
    "import homogeneous_ensemble as he"
   ]
  },
  {
   "cell_type": "code",
   "execution_count": 6,
   "id": "656cede2-0cbb-424b-8a5a-f5f887aaf6b6",
   "metadata": {},
   "outputs": [],
   "source": [
    "import numpy as np\n",
    "import pandas as pd\n",
    "\n",
    "import random\n",
    "from sklearn.svm import SVR\n",
    "from sklearn.tree import DecisionTreeClassifier\n",
    "from sklearn.metrics import mean_squared_error\n",
    "from sklearn.neighbors import KNeighborsClassifier\n",
    "\n",
    "abalone = pd.read_csv(\"abalone.csv\")\n",
    "\n",
    "training, valid = he.split_train_test(abalone, 0.2)"
   ]
  },
  {
   "cell_type": "code",
   "execution_count": 7,
   "id": "fc926dcf-47d5-49d6-a35a-529533cb2de4",
   "metadata": {},
   "outputs": [
    {
     "name": "stdout",
     "output_type": "stream",
     "text": [
      "[0.13876194432904032, 0.16197866149369544]\n"
     ]
    }
   ],
   "source": [
    "weights, predictors = he.homog_ens(training, 0, 2)\n",
    "print(weights)"
   ]
  },
  {
   "cell_type": "code",
   "execution_count": 8,
   "id": "6080ed14-0fff-4955-a884-3b27d9e51e62",
   "metadata": {},
   "outputs": [
    {
     "name": "stdout",
     "output_type": "stream",
     "text": [
      "[DecisionTreeClassifier(max_depth=5), DecisionTreeClassifier(max_depth=5)]\n"
     ]
    }
   ],
   "source": [
    "print(predictors)"
   ]
  },
  {
   "cell_type": "code",
   "execution_count": 12,
   "id": "384ee2a2-8dc2-4686-81be-ca81e54b15ec",
   "metadata": {},
   "outputs": [
    {
     "data": {
      "text/html": [
       "<div>\n",
       "<style scoped>\n",
       "    .dataframe tbody tr th:only-of-type {\n",
       "        vertical-align: middle;\n",
       "    }\n",
       "\n",
       "    .dataframe tbody tr th {\n",
       "        vertical-align: top;\n",
       "    }\n",
       "\n",
       "    .dataframe thead th {\n",
       "        text-align: right;\n",
       "    }\n",
       "</style>\n",
       "<table border=\"1\" class=\"dataframe\">\n",
       "  <thead>\n",
       "    <tr style=\"text-align: right;\">\n",
       "      <th></th>\n",
       "      <th>Length</th>\n",
       "      <th>Diameter</th>\n",
       "      <th>Height</th>\n",
       "      <th>Whole_weight</th>\n",
       "      <th>Shucked_weight</th>\n",
       "      <th>Viscera_weight</th>\n",
       "      <th>Shell_weight</th>\n",
       "    </tr>\n",
       "  </thead>\n",
       "  <tbody>\n",
       "    <tr>\n",
       "      <th>1009</th>\n",
       "      <td>0.530</td>\n",
       "      <td>0.400</td>\n",
       "      <td>0.125</td>\n",
       "      <td>0.6170</td>\n",
       "      <td>0.2790</td>\n",
       "      <td>0.1270</td>\n",
       "      <td>0.190</td>\n",
       "    </tr>\n",
       "    <tr>\n",
       "      <th>2179</th>\n",
       "      <td>0.565</td>\n",
       "      <td>0.435</td>\n",
       "      <td>0.155</td>\n",
       "      <td>0.7820</td>\n",
       "      <td>0.2715</td>\n",
       "      <td>0.1680</td>\n",
       "      <td>0.285</td>\n",
       "    </tr>\n",
       "    <tr>\n",
       "      <th>848</th>\n",
       "      <td>0.450</td>\n",
       "      <td>0.335</td>\n",
       "      <td>0.105</td>\n",
       "      <td>0.4470</td>\n",
       "      <td>0.2335</td>\n",
       "      <td>0.1530</td>\n",
       "      <td>0.119</td>\n",
       "    </tr>\n",
       "    <tr>\n",
       "      <th>1291</th>\n",
       "      <td>0.745</td>\n",
       "      <td>0.570</td>\n",
       "      <td>0.215</td>\n",
       "      <td>2.2500</td>\n",
       "      <td>1.1565</td>\n",
       "      <td>0.4460</td>\n",
       "      <td>0.558</td>\n",
       "    </tr>\n",
       "    <tr>\n",
       "      <th>237</th>\n",
       "      <td>0.545</td>\n",
       "      <td>0.460</td>\n",
       "      <td>0.160</td>\n",
       "      <td>0.8975</td>\n",
       "      <td>0.3410</td>\n",
       "      <td>0.1655</td>\n",
       "      <td>0.345</td>\n",
       "    </tr>\n",
       "  </tbody>\n",
       "</table>\n",
       "</div>"
      ],
      "text/plain": [
       "      Length  Diameter  Height  Whole_weight  Shucked_weight  Viscera_weight  \\\n",
       "1009   0.530     0.400   0.125        0.6170          0.2790          0.1270   \n",
       "2179   0.565     0.435   0.155        0.7820          0.2715          0.1680   \n",
       "848    0.450     0.335   0.105        0.4470          0.2335          0.1530   \n",
       "1291   0.745     0.570   0.215        2.2500          1.1565          0.4460   \n",
       "237    0.545     0.460   0.160        0.8975          0.3410          0.1655   \n",
       "\n",
       "      Shell_weight  \n",
       "1009         0.190  \n",
       "2179         0.285  \n",
       "848          0.119  \n",
       "1291         0.558  \n",
       "237          0.345  "
      ]
     },
     "execution_count": 12,
     "metadata": {},
     "output_type": "execute_result"
    }
   ],
   "source": [
    "X_vars = valid.iloc[:,1:-1]\n",
    "X_labels = valid.iloc[:,-1]\n",
    "\n",
    "X_vars.iloc[:5,:]"
   ]
  },
  {
   "cell_type": "code",
   "execution_count": 16,
   "id": "71860af7-2bb7-4fe6-813a-ebcf172e2f7c",
   "metadata": {},
   "outputs": [
    {
     "name": "stderr",
     "output_type": "stream",
     "text": [
      "C:\\Users\\jcarew42\\Anaconda3\\lib\\site-packages\\sklearn\\base.py:443: UserWarning: X has feature names, but DecisionTreeClassifier was fitted without feature names\n",
      "  warnings.warn(\n",
      "C:\\Users\\jcarew42\\Anaconda3\\lib\\site-packages\\sklearn\\base.py:443: UserWarning: X has feature names, but DecisionTreeClassifier was fitted without feature names\n",
      "  warnings.warn(\n"
     ]
    }
   ],
   "source": [
    "predictions = []\n",
    "for p in predictors:\n",
    "    predictions.append(p.predict(X_vars))"
   ]
  },
  {
   "cell_type": "code",
   "execution_count": 12,
   "id": "6540d58a-3c65-419c-b5b3-8f170aa6a90f",
   "metadata": {},
   "outputs": [
    {
     "data": {
      "text/plain": [
       "(2672, 9)"
      ]
     },
     "execution_count": 12,
     "metadata": {},
     "output_type": "execute_result"
    }
   ],
   "source": [
    "sub_train.shape"
   ]
  },
  {
   "cell_type": "code",
   "execution_count": 14,
   "id": "2b60b445-87fc-474c-8506-f8e5388a1630",
   "metadata": {},
   "outputs": [
    {
     "name": "stderr",
     "output_type": "stream",
     "text": [
      "C:\\Users\\jcarew42\\Anaconda3\\lib\\site-packages\\sklearn\\base.py:443: UserWarning: X has feature names, but DecisionTreeClassifier was fitted without feature names\n",
      "  warnings.warn(\n"
     ]
    },
    {
     "data": {
      "text/plain": [
       "6.23021582733813"
      ]
     },
     "execution_count": 14,
     "metadata": {},
     "output_type": "execute_result"
    }
   ],
   "source": [
    "mean_squared_error(predictors[0].predict(X_vars), X_labels)"
   ]
  },
  {
   "cell_type": "code",
   "execution_count": 13,
   "id": "d1b4194b-675d-4f67-82ca-290d6e5eabce",
   "metadata": {},
   "outputs": [
    {
     "data": {
      "text/plain": [
       "(668, 9)"
      ]
     },
     "execution_count": 13,
     "metadata": {},
     "output_type": "execute_result"
    }
   ],
   "source": [
    "test.shape"
   ]
  },
  {
   "cell_type": "code",
   "execution_count": null,
   "id": "81c10cfe-e588-4151-83d7-e9c1f97e7fb7",
   "metadata": {},
   "outputs": [],
   "source": []
  }
 ],
 "metadata": {
  "kernelspec": {
   "display_name": "Python 3 (ipykernel)",
   "language": "python",
   "name": "python3"
  },
  "language_info": {
   "codemirror_mode": {
    "name": "ipython",
    "version": 3
   },
   "file_extension": ".py",
   "mimetype": "text/x-python",
   "name": "python",
   "nbconvert_exporter": "python",
   "pygments_lexer": "ipython3",
   "version": "3.9.13"
  }
 },
 "nbformat": 4,
 "nbformat_minor": 5
}

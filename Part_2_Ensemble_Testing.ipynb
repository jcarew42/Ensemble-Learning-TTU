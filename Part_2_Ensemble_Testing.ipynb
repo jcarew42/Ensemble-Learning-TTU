{
 "cells": [
  {
   "cell_type": "markdown",
   "id": "a202c577-8e68-4e0e-8c8e-a8cadb1385dd",
   "metadata": {},
   "source": [
    "# Ensemble Testing"
   ]
  },
  {
   "cell_type": "markdown",
   "id": "f1d3fab4-fadf-4391-9bae-3f48b32b088f",
   "metadata": {},
   "source": [
    "We have created a python module that makes the homogeneous ensemble callable.  The module is `homogeneous_ensemble.py`."
   ]
  },
  {
   "cell_type": "code",
   "execution_count": 7,
   "id": "8463c64c-0c83-460d-8535-e06d967b0d88",
   "metadata": {},
   "outputs": [],
   "source": [
    "import homogeneous_ensemble as he"
   ]
  },
  {
   "cell_type": "code",
   "execution_count": 8,
   "id": "656cede2-0cbb-424b-8a5a-f5f887aaf6b6",
   "metadata": {},
   "outputs": [],
   "source": [
    "import numpy as np\n",
    "import pandas as pd\n",
    "\n",
    "import random\n",
    "from sklearn.svm import SVR\n",
    "from sklearn.tree import DecisionTreeClassifier\n",
    "from sklearn.metrics import mean_squared_error\n",
    "from sklearn.neighbors import KNeighborsClassifier\n",
    "\n",
    "abalone = pd.read_csv(\"abalone.csv\")"
   ]
  },
  {
   "cell_type": "code",
   "execution_count": 9,
   "id": "fc926dcf-47d5-49d6-a35a-529533cb2de4",
   "metadata": {},
   "outputs": [
    {
     "name": "stdout",
     "output_type": "stream",
     "text": [
      "[0.1262488646684832, 0.14268605645851154]\n"
     ]
    }
   ],
   "source": [
    "val = he.homog_ens(abalone, 0, 2)\n",
    "print(val)"
   ]
  },
  {
   "cell_type": "code",
   "execution_count": 12,
   "id": "6080ed14-0fff-4955-a884-3b27d9e51e62",
   "metadata": {},
   "outputs": [
    {
     "name": "stdout",
     "output_type": "stream",
     "text": [
      "[0.12642110050022737, 0.1312765622540532]\n",
      "[0.15252377468910022, 0.13672131147540983]\n",
      "[0.16430260047281323, 0.13326941514860977]\n",
      "[0.1462131837307153, 0.1260009064813416]\n"
     ]
    }
   ],
   "source": [
    "for i in range(1, 5):\n",
    "    print(he.homog_ens(abalone, 0, 2))"
   ]
  },
  {
   "cell_type": "code",
   "execution_count": 13,
   "id": "384ee2a2-8dc2-4686-81be-ca81e54b15ec",
   "metadata": {},
   "outputs": [
    {
     "name": "stdout",
     "output_type": "stream",
     "text": [
      "[0.1289225537177307, 0.17598649504114794, 0.13923205342237063, 0.13017012642422351, 0.11794654221467969, 0.12858464384828863, 0.142832676828224, 0.14056969492668128, 0.1706917724109701, 0.1458041958041958, 0.1437435367114788, 0.1354115927910375, 0.144315625540751, 0.1377601585728444, 0.12405176260597947, 0.14327435148599899, 0.139115929941618, 0.1303125, 0.1329719387755102, 0.1431513903192585, 0.1254701369038664, 0.15249588590235877, 0.11326904794241477, 0.13462469733656174, 0.14795103778605642, 0.12518763134193936, 0.13107024988213106, 0.1298458664175619, 0.13436442725954567, 0.11280941431083458, 0.1709366673498668, 0.14501825769431403]\n"
     ]
    }
   ],
   "source": [
    "print(he.homog_ens(abalone, 0, 32))"
   ]
  },
  {
   "cell_type": "code",
   "execution_count": null,
   "id": "71860af7-2bb7-4fe6-813a-ebcf172e2f7c",
   "metadata": {},
   "outputs": [],
   "source": []
  }
 ],
 "metadata": {
  "kernelspec": {
   "display_name": "Python 3 (ipykernel)",
   "language": "python",
   "name": "python3"
  },
  "language_info": {
   "codemirror_mode": {
    "name": "ipython",
    "version": 3
   },
   "file_extension": ".py",
   "mimetype": "text/x-python",
   "name": "python",
   "nbconvert_exporter": "python",
   "pygments_lexer": "ipython3",
   "version": "3.9.13"
  }
 },
 "nbformat": 4,
 "nbformat_minor": 5
}

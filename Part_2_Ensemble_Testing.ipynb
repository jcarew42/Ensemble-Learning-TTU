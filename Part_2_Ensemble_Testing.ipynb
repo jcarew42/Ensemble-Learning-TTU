{
 "cells": [
  {
   "cell_type": "markdown",
   "id": "a202c577-8e68-4e0e-8c8e-a8cadb1385dd",
   "metadata": {},
   "source": [
    "# Ensemble Testing (Under Construction)"
   ]
  },
  {
   "cell_type": "markdown",
   "id": "f1d3fab4-fadf-4391-9bae-3f48b32b088f",
   "metadata": {},
   "source": [
    "We have created a python module that makes the homogeneous ensemble callable.  The module is `homogeneous_ensemble.py`."
   ]
  },
  {
   "cell_type": "code",
   "execution_count": 21,
   "id": "8463c64c-0c83-460d-8535-e06d967b0d88",
   "metadata": {},
   "outputs": [],
   "source": [
    "import homogeneous_ensemble as he"
   ]
  },
  {
   "cell_type": "code",
   "execution_count": 16,
   "id": "656cede2-0cbb-424b-8a5a-f5f887aaf6b6",
   "metadata": {},
   "outputs": [
    {
     "data": {
      "text/plain": [
       "(4174, 11)"
      ]
     },
     "execution_count": 16,
     "metadata": {},
     "output_type": "execute_result"
    }
   ],
   "source": [
    "import numpy as np\n",
    "import pandas as pd\n",
    "\n",
    "import random\n",
    "from sklearn.svm import SVR\n",
    "from sklearn.tree import DecisionTreeClassifier\n",
    "from sklearn.metrics import mean_squared_error\n",
    "from sklearn.neighbors import KNeighborsClassifier\n",
    "from sklearn.preprocessing import OneHotEncoder\n",
    "from sklearn.ensemble import RandomForestClassifier, GradientBoostingClassifier\n",
    "\n",
    "import time\n",
    "\n",
    "abalone = pd.read_csv(\"abalone.csv\")\n",
    "oe_style = OneHotEncoder()\n",
    "oe_results = oe_style.fit_transform(abalone[[\"Sex\"]])\n",
    "\n",
    "abalone = pd.DataFrame(oe_results.toarray(), columns=oe_style.categories_).join(abalone)\n",
    "abalone = abalone.drop(\"Sex\", axis=1)\n",
    "abalone.shape"
   ]
  },
  {
   "cell_type": "code",
   "execution_count": 17,
   "id": "31bf600f-a102-4977-b8ce-d81b8abb1262",
   "metadata": {},
   "outputs": [
    {
     "data": {
      "text/html": [
       "<div>\n",
       "<style scoped>\n",
       "    .dataframe tbody tr th:only-of-type {\n",
       "        vertical-align: middle;\n",
       "    }\n",
       "\n",
       "    .dataframe tbody tr th {\n",
       "        vertical-align: top;\n",
       "    }\n",
       "\n",
       "    .dataframe thead th {\n",
       "        text-align: right;\n",
       "    }\n",
       "</style>\n",
       "<table border=\"1\" class=\"dataframe\">\n",
       "  <thead>\n",
       "    <tr style=\"text-align: right;\">\n",
       "      <th></th>\n",
       "      <th>(F,)</th>\n",
       "      <th>(I,)</th>\n",
       "      <th>(M,)</th>\n",
       "      <th>Length</th>\n",
       "      <th>Diameter</th>\n",
       "      <th>Height</th>\n",
       "      <th>Whole_weight</th>\n",
       "      <th>Shucked_weight</th>\n",
       "      <th>Viscera_weight</th>\n",
       "      <th>Shell_weight</th>\n",
       "      <th>Rings</th>\n",
       "    </tr>\n",
       "  </thead>\n",
       "  <tbody>\n",
       "    <tr>\n",
       "      <th>2547</th>\n",
       "      <td>0.0</td>\n",
       "      <td>0.0</td>\n",
       "      <td>1.0</td>\n",
       "      <td>0.500</td>\n",
       "      <td>0.365</td>\n",
       "      <td>0.130</td>\n",
       "      <td>0.5945</td>\n",
       "      <td>0.3090</td>\n",
       "      <td>0.1085</td>\n",
       "      <td>0.1535</td>\n",
       "      <td>9</td>\n",
       "    </tr>\n",
       "    <tr>\n",
       "      <th>3441</th>\n",
       "      <td>0.0</td>\n",
       "      <td>0.0</td>\n",
       "      <td>1.0</td>\n",
       "      <td>0.595</td>\n",
       "      <td>0.460</td>\n",
       "      <td>0.155</td>\n",
       "      <td>1.0300</td>\n",
       "      <td>0.4275</td>\n",
       "      <td>0.2070</td>\n",
       "      <td>0.3305</td>\n",
       "      <td>10</td>\n",
       "    </tr>\n",
       "    <tr>\n",
       "      <th>2644</th>\n",
       "      <td>0.0</td>\n",
       "      <td>0.0</td>\n",
       "      <td>1.0</td>\n",
       "      <td>0.620</td>\n",
       "      <td>0.475</td>\n",
       "      <td>0.195</td>\n",
       "      <td>1.3585</td>\n",
       "      <td>0.5935</td>\n",
       "      <td>0.3365</td>\n",
       "      <td>0.3745</td>\n",
       "      <td>10</td>\n",
       "    </tr>\n",
       "    <tr>\n",
       "      <th>3640</th>\n",
       "      <td>0.0</td>\n",
       "      <td>0.0</td>\n",
       "      <td>1.0</td>\n",
       "      <td>0.625</td>\n",
       "      <td>0.495</td>\n",
       "      <td>0.155</td>\n",
       "      <td>1.0250</td>\n",
       "      <td>0.4600</td>\n",
       "      <td>0.1945</td>\n",
       "      <td>0.3400</td>\n",
       "      <td>9</td>\n",
       "    </tr>\n",
       "    <tr>\n",
       "      <th>414</th>\n",
       "      <td>0.0</td>\n",
       "      <td>1.0</td>\n",
       "      <td>0.0</td>\n",
       "      <td>0.220</td>\n",
       "      <td>0.165</td>\n",
       "      <td>0.055</td>\n",
       "      <td>0.0545</td>\n",
       "      <td>0.0215</td>\n",
       "      <td>0.0120</td>\n",
       "      <td>0.0200</td>\n",
       "      <td>5</td>\n",
       "    </tr>\n",
       "  </tbody>\n",
       "</table>\n",
       "</div>"
      ],
      "text/plain": [
       "      (F,)  (I,)  (M,)  Length  Diameter  Height  Whole_weight  \\\n",
       "2547   0.0   0.0   1.0   0.500     0.365   0.130        0.5945   \n",
       "3441   0.0   0.0   1.0   0.595     0.460   0.155        1.0300   \n",
       "2644   0.0   0.0   1.0   0.620     0.475   0.195        1.3585   \n",
       "3640   0.0   0.0   1.0   0.625     0.495   0.155        1.0250   \n",
       "414    0.0   1.0   0.0   0.220     0.165   0.055        0.0545   \n",
       "\n",
       "      Shucked_weight  Viscera_weight  Shell_weight  Rings  \n",
       "2547          0.3090          0.1085        0.1535      9  \n",
       "3441          0.4275          0.2070        0.3305     10  \n",
       "2644          0.5935          0.3365        0.3745     10  \n",
       "3640          0.4600          0.1945        0.3400      9  \n",
       "414           0.0215          0.0120        0.0200      5  "
      ]
     },
     "execution_count": 17,
     "metadata": {},
     "output_type": "execute_result"
    }
   ],
   "source": [
    "training, valid = he.split_train_test(abalone, 0.2)\n",
    "training.head()"
   ]
  },
  {
   "cell_type": "code",
   "execution_count": 4,
   "id": "fc926dcf-47d5-49d6-a35a-529533cb2de4",
   "metadata": {},
   "outputs": [
    {
     "name": "stdout",
     "output_type": "stream",
     "text": [
      "[0.18865622891558753, 0.1736265470034139]\n"
     ]
    }
   ],
   "source": [
    "\n",
    "weights, predictors = he.homog_ens(training, 1, 2)\n",
    "print(weights)"
   ]
  },
  {
   "cell_type": "code",
   "execution_count": 5,
   "id": "6080ed14-0fff-4955-a884-3b27d9e51e62",
   "metadata": {},
   "outputs": [
    {
     "name": "stdout",
     "output_type": "stream",
     "text": [
      "[9.84838181]\n",
      "[10.04619023]\n"
     ]
    }
   ],
   "source": [
    "print(predictors[0].intercept_)\n",
    "print(predictors[1].intercept_)"
   ]
  },
  {
   "cell_type": "code",
   "execution_count": 6,
   "id": "384ee2a2-8dc2-4686-81be-ca81e54b15ec",
   "metadata": {},
   "outputs": [
    {
     "data": {
      "text/html": [
       "<div>\n",
       "<style scoped>\n",
       "    .dataframe tbody tr th:only-of-type {\n",
       "        vertical-align: middle;\n",
       "    }\n",
       "\n",
       "    .dataframe tbody tr th {\n",
       "        vertical-align: top;\n",
       "    }\n",
       "\n",
       "    .dataframe thead th {\n",
       "        text-align: right;\n",
       "    }\n",
       "</style>\n",
       "<table border=\"1\" class=\"dataframe\">\n",
       "  <thead>\n",
       "    <tr style=\"text-align: right;\">\n",
       "      <th></th>\n",
       "      <th>(F,)</th>\n",
       "      <th>(I,)</th>\n",
       "      <th>(M,)</th>\n",
       "      <th>Length</th>\n",
       "      <th>Diameter</th>\n",
       "      <th>Height</th>\n",
       "      <th>Whole_weight</th>\n",
       "      <th>Shucked_weight</th>\n",
       "      <th>Viscera_weight</th>\n",
       "      <th>Shell_weight</th>\n",
       "    </tr>\n",
       "  </thead>\n",
       "  <tbody>\n",
       "    <tr>\n",
       "      <th>4107</th>\n",
       "      <td>1.0</td>\n",
       "      <td>0.0</td>\n",
       "      <td>0.0</td>\n",
       "      <td>0.625</td>\n",
       "      <td>0.475</td>\n",
       "      <td>0.160</td>\n",
       "      <td>1.3335</td>\n",
       "      <td>0.6050</td>\n",
       "      <td>0.2875</td>\n",
       "      <td>0.3190</td>\n",
       "    </tr>\n",
       "    <tr>\n",
       "      <th>632</th>\n",
       "      <td>0.0</td>\n",
       "      <td>1.0</td>\n",
       "      <td>0.0</td>\n",
       "      <td>0.155</td>\n",
       "      <td>0.105</td>\n",
       "      <td>0.050</td>\n",
       "      <td>0.0175</td>\n",
       "      <td>0.0050</td>\n",
       "      <td>0.0035</td>\n",
       "      <td>0.0050</td>\n",
       "    </tr>\n",
       "    <tr>\n",
       "      <th>1091</th>\n",
       "      <td>1.0</td>\n",
       "      <td>0.0</td>\n",
       "      <td>0.0</td>\n",
       "      <td>0.755</td>\n",
       "      <td>0.625</td>\n",
       "      <td>0.210</td>\n",
       "      <td>2.5050</td>\n",
       "      <td>1.1965</td>\n",
       "      <td>0.5130</td>\n",
       "      <td>0.6785</td>\n",
       "    </tr>\n",
       "    <tr>\n",
       "      <th>235</th>\n",
       "      <td>0.0</td>\n",
       "      <td>0.0</td>\n",
       "      <td>1.0</td>\n",
       "      <td>0.560</td>\n",
       "      <td>0.450</td>\n",
       "      <td>0.175</td>\n",
       "      <td>1.0110</td>\n",
       "      <td>0.3835</td>\n",
       "      <td>0.2065</td>\n",
       "      <td>0.3700</td>\n",
       "    </tr>\n",
       "    <tr>\n",
       "      <th>3376</th>\n",
       "      <td>0.0</td>\n",
       "      <td>1.0</td>\n",
       "      <td>0.0</td>\n",
       "      <td>0.400</td>\n",
       "      <td>0.315</td>\n",
       "      <td>0.100</td>\n",
       "      <td>0.3225</td>\n",
       "      <td>0.1430</td>\n",
       "      <td>0.0735</td>\n",
       "      <td>0.0910</td>\n",
       "    </tr>\n",
       "  </tbody>\n",
       "</table>\n",
       "</div>"
      ],
      "text/plain": [
       "      (F,)  (I,)  (M,)  Length  Diameter  Height  Whole_weight  \\\n",
       "4107   1.0   0.0   0.0   0.625     0.475   0.160        1.3335   \n",
       "632    0.0   1.0   0.0   0.155     0.105   0.050        0.0175   \n",
       "1091   1.0   0.0   0.0   0.755     0.625   0.210        2.5050   \n",
       "235    0.0   0.0   1.0   0.560     0.450   0.175        1.0110   \n",
       "3376   0.0   1.0   0.0   0.400     0.315   0.100        0.3225   \n",
       "\n",
       "      Shucked_weight  Viscera_weight  Shell_weight  \n",
       "4107          0.6050          0.2875        0.3190  \n",
       "632           0.0050          0.0035        0.0050  \n",
       "1091          1.1965          0.5130        0.6785  \n",
       "235           0.3835          0.2065        0.3700  \n",
       "3376          0.1430          0.0735        0.0910  "
      ]
     },
     "execution_count": 6,
     "metadata": {},
     "output_type": "execute_result"
    }
   ],
   "source": [
    "X_valid = valid.iloc[:,0:-1]\n",
    "Y_valid = valid.iloc[:,-1]\n",
    "\n",
    "X_valid.iloc[:5,:]"
   ]
  },
  {
   "cell_type": "code",
   "execution_count": 7,
   "id": "71860af7-2bb7-4fe6-813a-ebcf172e2f7c",
   "metadata": {},
   "outputs": [
    {
     "name": "stderr",
     "output_type": "stream",
     "text": [
      "C:\\Users\\jcarew42\\Anaconda3\\lib\\site-packages\\sklearn\\utils\\validation.py:1688: FutureWarning: Feature names only support names that are all strings. Got feature names with dtypes: ['str', 'tuple']. An error will be raised in 1.2.\n",
      "  warnings.warn(\n",
      "C:\\Users\\jcarew42\\Anaconda3\\lib\\site-packages\\sklearn\\utils\\validation.py:1688: FutureWarning: Feature names only support names that are all strings. Got feature names with dtypes: ['str', 'tuple']. An error will be raised in 1.2.\n",
      "  warnings.warn(\n"
     ]
    }
   ],
   "source": [
    "predictions = []\n",
    "for p in predictors:\n",
    "    predictions.append(p.predict(X_valid))"
   ]
  },
  {
   "cell_type": "code",
   "execution_count": 8,
   "id": "6540d58a-3c65-419c-b5b3-8f170aa6a90f",
   "metadata": {},
   "outputs": [
    {
     "data": {
      "text/plain": [
       "array([10.03240638,  4.40735365, 11.74204177, 12.08912217,  7.11018509])"
      ]
     },
     "execution_count": 8,
     "metadata": {},
     "output_type": "execute_result"
    }
   ],
   "source": [
    "predictions[0][0:5]"
   ]
  },
  {
   "cell_type": "code",
   "execution_count": 9,
   "id": "2b60b445-87fc-474c-8506-f8e5388a1630",
   "metadata": {},
   "outputs": [
    {
     "data": {
      "text/plain": [
       "5.257305588451197"
      ]
     },
     "execution_count": 9,
     "metadata": {},
     "output_type": "execute_result"
    }
   ],
   "source": [
    "mean_squared_error(predictions[0], Y_valid)"
   ]
  },
  {
   "cell_type": "code",
   "execution_count": 10,
   "id": "802ff5c7-20bb-4d0d-aac1-d431bc6e9b43",
   "metadata": {},
   "outputs": [
    {
     "data": {
      "text/plain": [
       "5.266829304960987"
      ]
     },
     "execution_count": 10,
     "metadata": {},
     "output_type": "execute_result"
    }
   ],
   "source": [
    "mean_squared_error(predictions[1], Y_valid)"
   ]
  },
  {
   "cell_type": "code",
   "execution_count": 11,
   "id": "656626b3-2161-441a-99cb-eb29e38e12b6",
   "metadata": {},
   "outputs": [
    {
     "name": "stdout",
     "output_type": "stream",
     "text": [
      "0.36228277591900143\n"
     ]
    }
   ],
   "source": [
    "#weights[0]*predictions[0]\n",
    "num = 0\n",
    "j = 0\n",
    "weight_sum = 0\n",
    "while (j < len(weights)):\n",
    "        num += weights[j]*predictions[j]\n",
    "        weight_sum += weights[j]\n",
    "        j+=1\n",
    "print(weight_sum)"
   ]
  },
  {
   "cell_type": "code",
   "execution_count": 12,
   "id": "d6b6d08d-f008-4750-99a2-0d38e49a6eb3",
   "metadata": {},
   "outputs": [
    {
     "data": {
      "text/plain": [
       "5.260438510105208"
      ]
     },
     "execution_count": 12,
     "metadata": {},
     "output_type": "execute_result"
    }
   ],
   "source": [
    "guess = num / weight_sum\n",
    "mean_squared_error(guess, Y_valid)"
   ]
  },
  {
   "cell_type": "code",
   "execution_count": 19,
   "id": "7c8df3a8-be02-4ee0-bb50-436de3ea804f",
   "metadata": {},
   "outputs": [
    {
     "data": {
      "text/html": [
       "<div>\n",
       "<style scoped>\n",
       "    .dataframe tbody tr th:only-of-type {\n",
       "        vertical-align: middle;\n",
       "    }\n",
       "\n",
       "    .dataframe tbody tr th {\n",
       "        vertical-align: top;\n",
       "    }\n",
       "\n",
       "    .dataframe thead th {\n",
       "        text-align: right;\n",
       "    }\n",
       "</style>\n",
       "<table border=\"1\" class=\"dataframe\">\n",
       "  <thead>\n",
       "    <tr style=\"text-align: right;\">\n",
       "      <th></th>\n",
       "      <th>Algorithm</th>\n",
       "      <th>MSE</th>\n",
       "      <th>Time</th>\n",
       "    </tr>\n",
       "  </thead>\n",
       "  <tbody>\n",
       "    <tr>\n",
       "      <th>0</th>\n",
       "      <td>DecisionTree</td>\n",
       "      <td>0</td>\n",
       "      <td>0</td>\n",
       "    </tr>\n",
       "    <tr>\n",
       "      <th>1</th>\n",
       "      <td>SVR</td>\n",
       "      <td>0</td>\n",
       "      <td>0</td>\n",
       "    </tr>\n",
       "    <tr>\n",
       "      <th>2</th>\n",
       "      <td>kNN</td>\n",
       "      <td>0</td>\n",
       "      <td>0</td>\n",
       "    </tr>\n",
       "    <tr>\n",
       "      <th>3</th>\n",
       "      <td>RandomForest</td>\n",
       "      <td>0</td>\n",
       "      <td>0</td>\n",
       "    </tr>\n",
       "    <tr>\n",
       "      <th>4</th>\n",
       "      <td>Gradient</td>\n",
       "      <td>0</td>\n",
       "      <td>0</td>\n",
       "    </tr>\n",
       "  </tbody>\n",
       "</table>\n",
       "</div>"
      ],
      "text/plain": [
       "      Algorithm  MSE  Time\n",
       "0  DecisionTree    0     0\n",
       "1           SVR    0     0\n",
       "2           kNN    0     0\n",
       "3  RandomForest    0     0\n",
       "4      Gradient    0     0"
      ]
     },
     "execution_count": 19,
     "metadata": {},
     "output_type": "execute_result"
    }
   ],
   "source": [
    "table_1 = [[\"DecisionTree\",0,0],[\"SVR\",0,0],[\"kNN\",0,0],[\"RandomForest\",0,0],[\"Gradient\",0,0]]\n",
    "cols = [\"Algorithm\", \"MSE\", \"Time\"]\n",
    "table_1 = pd.DataFrame(table_1, columns=cols)\n",
    "table_1"
   ]
  },
  {
   "cell_type": "code",
   "execution_count": 14,
   "id": "f6036216-a6c0-40dc-a005-3b5e4166855e",
   "metadata": {},
   "outputs": [],
   "source": [
    "import warnings\n",
    "warnings.simplefilter(action='ignore', category=FutureWarning) # setting ignore as a parameter and further adding category"
   ]
  },
  {
   "cell_type": "code",
   "execution_count": 25,
   "id": "6c50a3f0-8e80-4095-84aa-fb018865e60d",
   "metadata": {},
   "outputs": [
    {
     "data": {
      "text/html": [
       "<div>\n",
       "<style scoped>\n",
       "    .dataframe tbody tr th:only-of-type {\n",
       "        vertical-align: middle;\n",
       "    }\n",
       "\n",
       "    .dataframe tbody tr th {\n",
       "        vertical-align: top;\n",
       "    }\n",
       "\n",
       "    .dataframe thead th {\n",
       "        text-align: right;\n",
       "    }\n",
       "</style>\n",
       "<table border=\"1\" class=\"dataframe\">\n",
       "  <thead>\n",
       "    <tr style=\"text-align: right;\">\n",
       "      <th></th>\n",
       "      <th>Algorithm</th>\n",
       "      <th>MSE</th>\n",
       "      <th>Time</th>\n",
       "    </tr>\n",
       "  </thead>\n",
       "  <tbody>\n",
       "    <tr>\n",
       "      <th>0</th>\n",
       "      <td>DecisionTree</td>\n",
       "      <td>6.818293</td>\n",
       "      <td>0.922262</td>\n",
       "    </tr>\n",
       "    <tr>\n",
       "      <th>1</th>\n",
       "      <td>SVR</td>\n",
       "      <td>5.256181</td>\n",
       "      <td>225.777503</td>\n",
       "    </tr>\n",
       "    <tr>\n",
       "      <th>2</th>\n",
       "      <td>kNN</td>\n",
       "      <td>5.691817</td>\n",
       "      <td>14.651755</td>\n",
       "    </tr>\n",
       "    <tr>\n",
       "      <th>3</th>\n",
       "      <td>RandomForest</td>\n",
       "      <td>6.087530</td>\n",
       "      <td>1.900617</td>\n",
       "    </tr>\n",
       "    <tr>\n",
       "      <th>4</th>\n",
       "      <td>Gradient</td>\n",
       "      <td>2.750600</td>\n",
       "      <td>29.933503</td>\n",
       "    </tr>\n",
       "  </tbody>\n",
       "</table>\n",
       "</div>"
      ],
      "text/plain": [
       "      Algorithm       MSE        Time\n",
       "0  DecisionTree  6.818293    0.922262\n",
       "1           SVR  5.256181  225.777503\n",
       "2           kNN  5.691817   14.651755\n",
       "3  RandomForest  6.087530    1.900617\n",
       "4      Gradient  2.750600   29.933503"
      ]
     },
     "execution_count": 25,
     "metadata": {},
     "output_type": "execute_result"
    }
   ],
   "source": [
    "n = 256\n",
    "\n",
    "for i in range(0,3):\n",
    "    \n",
    "    #  Training\n",
    "    t0 = time.time()\n",
    "    weights, predictors = he.homog_ens(training, i, n)\n",
    "    \n",
    "    predictions = []\n",
    "    for p in predictors:\n",
    "        predictions.append(p.predict(X_valid))\n",
    "    \n",
    "    \n",
    "    num = 0\n",
    "    j = 0\n",
    "    weight_sum = 0\n",
    "    while (j < len(weights)):\n",
    "        num += weights[j]*predictions[j]\n",
    "        weight_sum += weights[j]\n",
    "        j+=1\n",
    "    #print(weight_sum)\n",
    "    \n",
    "    guess = num / weight_sum\n",
    "    \n",
    "    t1 = time.time()\n",
    "    \n",
    "    # Predicting\n",
    "    #predictions = []\n",
    "    #for p in predictors:\n",
    "    #   predictions.append(p.predict(X_valid))\n",
    "        \n",
    "        \n",
    "    table_1.loc[i,\"MSE\"] = mean_squared_error(guess, Y_valid)\n",
    "    table_1.loc[i,\"Time\"] = t1-t0\n",
    "    \n",
    "t0 = time.time()\n",
    "train_set, test_set = he.split_train_test(training, 0.2)\n",
    "X_vars = train_set.iloc[:,:-1]\n",
    "X_labels = train_set.iloc[:,-1]\n",
    "Y = X_labels.to_numpy()\n",
    "X = X_vars.to_numpy()\n",
    "\n",
    "rf = RandomForestClassifier(n_estimators=n, max_depth=5, max_features=None, bootstrap=False)\n",
    "rf.fit(X, Y)\n",
    "t1 = time.time()\n",
    "\n",
    "\n",
    "table_1.loc[3,\"MSE\"] = mean_squared_error(rf.predict(X_valid), Y_valid)\n",
    "table_1.loc[3,\"Time\"] = t1-t0\n",
    "\n",
    "t0 = time.time()\n",
    "train_set, test_set = he.split_train_test(training, 0.2)\n",
    "X_vars = train_set.iloc[:,:-1]\n",
    "X_labels = train_set.iloc[:,-1]\n",
    "Y = X_labels.to_numpy()\n",
    "X = X_vars.to_numpy()\n",
    "\n",
    "gb = GradientBoostingClassifier(n_estimators=n)\n",
    "gb.fit(X, Y)\n",
    "t1 = time.time()\n",
    "\n",
    "\n",
    "table_1.loc[4,\"MSE\"] = mean_squared_error(gb.predict(X_valid), Y_valid)\n",
    "table_1.loc[4,\"Time\"] = t1-t0\n",
    "\n",
    "table_1"
   ]
  },
  {
   "cell_type": "code",
   "execution_count": null,
   "id": "18a2d4b7-5fc6-4fad-b843-fed25ad27cd1",
   "metadata": {},
   "outputs": [],
   "source": []
  }
 ],
 "metadata": {
  "kernelspec": {
   "display_name": "Python 3 (ipykernel)",
   "language": "python",
   "name": "python3"
  },
  "language_info": {
   "codemirror_mode": {
    "name": "ipython",
    "version": 3
   },
   "file_extension": ".py",
   "mimetype": "text/x-python",
   "name": "python",
   "nbconvert_exporter": "python",
   "pygments_lexer": "ipython3",
   "version": "3.9.13"
  }
 },
 "nbformat": 4,
 "nbformat_minor": 5
}

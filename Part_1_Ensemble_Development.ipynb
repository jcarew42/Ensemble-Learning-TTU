{
 "cells": [
  {
   "cell_type": "markdown",
   "id": "1c854718-6c74-4d1e-b896-09419b80986a",
   "metadata": {},
   "source": [
    "#  Ensemble Development"
   ]
  },
  {
   "cell_type": "markdown",
   "id": "12cf509a-9254-4f23-9ebe-073d62cfeff3",
   "metadata": {},
   "source": [
    "## Import of Packages and Data"
   ]
  },
  {
   "cell_type": "markdown",
   "id": "d34bf30d-8e5e-4a93-a930-286c9e60ea46",
   "metadata": {},
   "source": [
    "First, we import the proper modules and our data.  Pyplot is used to make the scatterplot and plot a regression line.  Numpy is used because ScikitLearn's machine learning algorithms require the use of numpy arrays.  Pandas allows us to get the .csv file as a dataframe.  For now, we are just working with the \"abalone\" dataset from the KEEL database.  We are attempting to predict an abalone snail's age (number of rings) through different factors.  Below, we import some packages we need and and the data."
   ]
  },
  {
   "cell_type": "code",
   "execution_count": 1,
   "id": "8f965905-cbcf-474a-b5f1-0faf31c3b4ee",
   "metadata": {},
   "outputs": [
    {
     "data": {
      "text/html": [
       "<div>\n",
       "<style scoped>\n",
       "    .dataframe tbody tr th:only-of-type {\n",
       "        vertical-align: middle;\n",
       "    }\n",
       "\n",
       "    .dataframe tbody tr th {\n",
       "        vertical-align: top;\n",
       "    }\n",
       "\n",
       "    .dataframe thead th {\n",
       "        text-align: right;\n",
       "    }\n",
       "</style>\n",
       "<table border=\"1\" class=\"dataframe\">\n",
       "  <thead>\n",
       "    <tr style=\"text-align: right;\">\n",
       "      <th></th>\n",
       "      <th>Sex</th>\n",
       "      <th>Length</th>\n",
       "      <th>Diameter</th>\n",
       "      <th>Height</th>\n",
       "      <th>Whole_weight</th>\n",
       "      <th>Shucked_weight</th>\n",
       "      <th>Viscera_weight</th>\n",
       "      <th>Shell_weight</th>\n",
       "      <th>Rings</th>\n",
       "    </tr>\n",
       "  </thead>\n",
       "  <tbody>\n",
       "    <tr>\n",
       "      <th>0</th>\n",
       "      <td>M</td>\n",
       "      <td>0.455</td>\n",
       "      <td>0.365</td>\n",
       "      <td>0.095</td>\n",
       "      <td>0.5140</td>\n",
       "      <td>0.2245</td>\n",
       "      <td>0.1010</td>\n",
       "      <td>0.150</td>\n",
       "      <td>15</td>\n",
       "    </tr>\n",
       "    <tr>\n",
       "      <th>1</th>\n",
       "      <td>M</td>\n",
       "      <td>0.350</td>\n",
       "      <td>0.265</td>\n",
       "      <td>0.090</td>\n",
       "      <td>0.2255</td>\n",
       "      <td>0.0995</td>\n",
       "      <td>0.0485</td>\n",
       "      <td>0.070</td>\n",
       "      <td>7</td>\n",
       "    </tr>\n",
       "    <tr>\n",
       "      <th>2</th>\n",
       "      <td>F</td>\n",
       "      <td>0.530</td>\n",
       "      <td>0.420</td>\n",
       "      <td>0.135</td>\n",
       "      <td>0.6770</td>\n",
       "      <td>0.2565</td>\n",
       "      <td>0.1415</td>\n",
       "      <td>0.210</td>\n",
       "      <td>9</td>\n",
       "    </tr>\n",
       "    <tr>\n",
       "      <th>3</th>\n",
       "      <td>M</td>\n",
       "      <td>0.440</td>\n",
       "      <td>0.365</td>\n",
       "      <td>0.125</td>\n",
       "      <td>0.5160</td>\n",
       "      <td>0.2155</td>\n",
       "      <td>0.1140</td>\n",
       "      <td>0.155</td>\n",
       "      <td>10</td>\n",
       "    </tr>\n",
       "    <tr>\n",
       "      <th>4</th>\n",
       "      <td>I</td>\n",
       "      <td>0.330</td>\n",
       "      <td>0.255</td>\n",
       "      <td>0.080</td>\n",
       "      <td>0.2050</td>\n",
       "      <td>0.0895</td>\n",
       "      <td>0.0395</td>\n",
       "      <td>0.055</td>\n",
       "      <td>7</td>\n",
       "    </tr>\n",
       "  </tbody>\n",
       "</table>\n",
       "</div>"
      ],
      "text/plain": [
       "  Sex  Length  Diameter  Height  Whole_weight  Shucked_weight  Viscera_weight  \\\n",
       "0   M   0.455     0.365   0.095        0.5140          0.2245          0.1010   \n",
       "1   M   0.350     0.265   0.090        0.2255          0.0995          0.0485   \n",
       "2   F   0.530     0.420   0.135        0.6770          0.2565          0.1415   \n",
       "3   M   0.440     0.365   0.125        0.5160          0.2155          0.1140   \n",
       "4   I   0.330     0.255   0.080        0.2050          0.0895          0.0395   \n",
       "\n",
       "   Shell_weight  Rings  \n",
       "0         0.150     15  \n",
       "1         0.070      7  \n",
       "2         0.210      9  \n",
       "3         0.155     10  \n",
       "4         0.055      7  "
      ]
     },
     "execution_count": 1,
     "metadata": {},
     "output_type": "execute_result"
    }
   ],
   "source": [
    "import matplotlib.pyplot as plt\n",
    "import numpy as np\n",
    "import pandas as pd\n",
    "\n",
    "abalone = pd.read_csv(\"abalone.csv\")\n",
    "\n",
    "abalone.head()"
   ]
  },
  {
   "cell_type": "markdown",
   "id": "4181d0b4-f46d-4d78-be34-d5ce333d1147",
   "metadata": {},
   "source": [
    "The following block imports some of the functions we'll be using from the ScikitLearn modules.  Our regression algorithms come from \"sklearn.linear_model,\" and the MSE function comes from \"sklearn.metrics.\""
   ]
  },
  {
   "cell_type": "code",
   "execution_count": 2,
   "id": "e391bd7c-9f4c-4499-a92e-e6cbbbc6a148",
   "metadata": {},
   "outputs": [],
   "source": [
    "#  Sklearn modules\n",
    "from sklearn.linear_model import LinearRegression, Lasso, ElasticNet, Ridge\n",
    "from sklearn.svm import SVR\n",
    "from sklearn.tree import DecisionTreeClassifier\n",
    "from sklearn.metrics import mean_squared_error"
   ]
  },
  {
   "cell_type": "markdown",
   "id": "5fd7b05d-99ef-430f-9676-e86de4241220",
   "metadata": {},
   "source": [
    "Below, we are just playing with a single algorithm to see how one is used."
   ]
  },
  {
   "cell_type": "code",
   "execution_count": 3,
   "id": "393d007a-61eb-4c13-a78b-be685fce098f",
   "metadata": {},
   "outputs": [
    {
     "data": {
      "text/plain": [
       "(7.25755961420464, array([14.82111069]))"
      ]
     },
     "execution_count": 3,
     "metadata": {},
     "output_type": "execute_result"
    }
   ],
   "source": [
    "#  Single Regression\n",
    "\n",
    "abalone_vars = np.array(abalone.iloc[:,1:-1])\n",
    "abalone_age = np.array(abalone.iloc[:,-1])\n",
    "\n",
    "lin_reg = LinearRegression()    #  This line creates an instance of linear regression model ready to be trained.\n",
    "lin_reg.fit(abalone_vars[:,5].reshape(-1,1), abalone_age)  #  This is the training line.\n",
    "lin_reg.intercept_, lin_reg.coef_  #  This is how we access the intercept and coefficient parameters\n",
    "#abalone_vars.iloc[:,5].reshape(-1,1)"
   ]
  },
  {
   "cell_type": "markdown",
   "id": "ea4c5e45-3f20-4fa2-8211-f2f270022520",
   "metadata": {},
   "source": [
    "Here, we are plotting the trained regression line and a scatterplot of one of the factors vs age."
   ]
  },
  {
   "cell_type": "code",
   "execution_count": 4,
   "id": "b764384c-2204-4603-9473-b108e85b9ca5",
   "metadata": {},
   "outputs": [
    {
     "name": "stdout",
     "output_type": "stream",
     "text": [
      "7.25755961420464 14.82111069366904\n"
     ]
    },
    {
     "data": {
      "text/plain": [
       "[<matplotlib.lines.Line2D at 0x1dd1e7a4e20>]"
      ]
     },
     "execution_count": 4,
     "metadata": {},
     "output_type": "execute_result"
    },
    {
     "data": {
      "image/png": "[encoded data removed]",
      "text/plain": [
       "<Figure size 640x480 with 1 Axes>"
      ]
     },
     "metadata": {},
     "output_type": "display_data"
    }
   ],
   "source": [
    "b, m = lin_reg.intercept_, lin_reg.coef_.item()\n",
    "print(b, m)\n",
    "plt.scatter(abalone_vars[:,5], abalone_age, color=\"purple\")\n",
    "plt.plot(abalone_vars[:,5], m*abalone_vars[:,5]+b, color=\"yellow\")"
   ]
  },
  {
   "cell_type": "markdown",
   "id": "9a1640ce-6ea8-4341-9b16-7757d7509bb9",
   "metadata": {},
   "source": [
    "## Preparing for the Ensemble"
   ]
  },
  {
   "cell_type": "markdown",
   "id": "fc3674f2-626f-4e1e-82af-1db9e316be07",
   "metadata": {},
   "source": [
    "We are getting ready to construct the ensemble.  Here, we are making available some regression algorithms available for the ensemble."
   ]
  },
  {
   "cell_type": "code",
   "execution_count": 5,
   "id": "11f93bbd-98d9-4829-bfd5-6b61758e3927",
   "metadata": {},
   "outputs": [],
   "source": [
    "#  Some regression algorithms available to the ensemble coming up.  These\n",
    "#  will be stored in the list \"predictors\" and accessed through the list's\n",
    "#  indices.\n",
    "predictors = [LinearRegression(),                  # Option 0\n",
    "              Lasso(alpha=0.1),                    # Option 1\n",
    "              ElasticNet(alpha=0.1, l1_ratio=0.5), # Option 2\n",
    "              Ridge(alpha=1, solver=\"cholesky\"),   # Option 3\n",
    "              DecisionTreeClassifier(max_depth=1), # Option 4\n",
    "              SVR()]                               # Option 5"
   ]
  },
  {
   "cell_type": "markdown",
   "id": "198c1f18-9c1b-40e0-8cb5-7b0f9b069732",
   "metadata": {},
   "source": [
    "Here, we are implementing a function that will partition the data into training and test sets.  The test_ratio argument allows us to specify how much of the data to leave asside for testing."
   ]
  },
  {
   "cell_type": "code",
   "execution_count": 8,
   "id": "2e22d441-ce4e-4848-bf11-a03582b89958",
   "metadata": {},
   "outputs": [],
   "source": [
    "#  Data split from Geron's \"Hands-on Machine Learning with Scikit-Learn,\n",
    "#  Keras & Tensorflow\"\n",
    "def split_train_test(data, test_ratio):\n",
    "    shuffled_indices = np.random.permutation(len(data))\n",
    "    test_set_size = int(len(data) * test_ratio)\n",
    "    test_indices = shuffled_indices[:test_set_size]\n",
    "    train_indices = shuffled_indices[test_set_size:]\n",
    "    return data.iloc[train_indices], data.iloc[test_indices]\n",
    "\n",
    "train_set, test_set = split_train_test(abalone, 0.2)\n",
    "\n",
    "#train_set.shape, test_set.shape"
   ]
  },
  {
   "cell_type": "markdown",
   "id": "854b4d9e-7e8c-4ab7-8341-4f2509fa66c3",
   "metadata": {},
   "source": [
    "## Construction of the Ensemble"
   ]
  },
  {
   "cell_type": "markdown",
   "id": "a306701d-45f1-482e-abfb-8d524142dee9",
   "metadata": {},
   "source": [
    "Here is the implementation of an algorithm similar to Algorithm 1 in \"Machine Learning Ensemble for Wind Power Prediction\" by J. Heinermann and O. Kramer (p. 8)."
   ]
  },
  {
   "cell_type": "code",
   "execution_count": 23,
   "id": "c14a9d3a-c5cc-443d-a8ed-cadf6cb97b3c",
   "metadata": {},
   "outputs": [],
   "source": [
    "#  Splitting the data into training and test sets\n",
    "#train_set, test_set = split_train_test(abalone, 0.2)\n",
    "\n",
    "#  Separating factors from response (labels)\n",
    "#X_vars = train_set.iloc[:,1:-1]\n",
    "#X_labels = train_set.iloc[:,-1]\n",
    "\n",
    "#  These lists will hold the trained models and calculated weights, resp.\n",
    "weak_preds = []\n",
    "weights = []\n",
    "\n",
    "#  Here is the bulk of the implementation of Algorithm 1 in the Heinermann, Kramer paper\n",
    "#Y = X_labels.to_numpy()\n",
    "#X = X_vars.to_numpy()\n",
    "for i in range(0,4):\n",
    "    #  Sampling of Data\n",
    "    train_set, test_set = split_train_test(abalone, 0.2)\n",
    "    X_vars = train_set.iloc[:,1:-1]\n",
    "    X_labels = train_set.iloc[:,-1]\n",
    "    Y = X_labels.to_numpy()\n",
    "    X = X_vars.to_numpy()\n",
    "    #  Model training\n",
    "    weak_lin_reg = predictors[i]      #<-------------------------------------------------------  Change number to desired option from above.  Set to i for hetero. ens.\n",
    "                                                                                            #    If i is constant, ensemble is homogeneous.\n",
    "    weak_lin_reg.fit(X, Y)\n",
    "    weak_preds.append(weak_lin_reg)\n",
    "    weights.append(1 / mean_squared_error(weak_lin_reg.predict(test_set.iloc[:,1:-1].to_numpy()), \n",
    "                                          test_set.iloc[:,-1].to_numpy()))"
   ]
  },
  {
   "cell_type": "markdown",
   "id": "39633708-11ac-4a27-8685-9925f2a703d4",
   "metadata": {},
   "source": [
    "So now our trained predictors are in `weak_preds` and our calculated weights are in `weights`, which are accessed as follows:"
   ]
  },
  {
   "cell_type": "code",
   "execution_count": 24,
   "id": "c497aa06-2081-4098-8282-6ed5dc432813",
   "metadata": {},
   "outputs": [
    {
     "name": "stdout",
     "output_type": "stream",
     "text": [
      "0.18819773164203035\n",
      "0.13627663451317848\n",
      "0.13687722785319983\n",
      "0.20896573176979483\n"
     ]
    }
   ],
   "source": [
    "#  Printing the calculated weights, w_i, in the algorithm\n",
    "for i in range(0,4):\n",
    "    print(weights[i])"
   ]
  },
  {
   "cell_type": "markdown",
   "id": "10ada035-d405-45ce-8347-cbc25a628aeb",
   "metadata": {},
   "source": [
    "Below, we calculate the aggregate prediction using the predictions of the weak predictors and their respective weights.  We first generate a random new observation whose factor ranges fit in with our data's ranges.  We then make predictions with all of our weak predictors.  After, we calculate the dot product of the weights and the prediction and normalize the result with the sum of the weights.  This is the ensemble prediction given on p. 9 of the Heinermann, Kramer paper."
   ]
  },
  {
   "cell_type": "code",
   "execution_count": 25,
   "id": "b2d4ae1f-17f8-4825-8272-e5c96dce7f01",
   "metadata": {},
   "outputs": [],
   "source": [
    "import random"
   ]
  },
  {
   "cell_type": "code",
   "execution_count": 26,
   "id": "b8f435cb-08e0-49f0-b40e-8bc15443dbc7",
   "metadata": {},
   "outputs": [
    {
     "data": {
      "text/plain": [
       "array([[0.73872656, 0.61165136, 0.8966932 , 0.43996802, 0.98215286,\n",
       "        0.55278684, 0.95291301]])"
      ]
     },
     "execution_count": 26,
     "metadata": {},
     "output_type": "execute_result"
    }
   ],
   "source": [
    "X_new = pd.DataFrame([[random.uniform(0.075,0.815),  #  Length\n",
    "                       random.uniform(0.055,0.65),   #  Diameter\n",
    "                       random.uniform(0.0,1.13),     #  Height \n",
    "                       random.uniform(0.0020,2.8255),#  Whole Weight \n",
    "                       random.uniform(0.0010,1.488), #  Shucked_weight\n",
    "                       random.uniform(0.0005,0.76),  #  Viscera_weight\n",
    "                       random.uniform(0.0015,1.005)]]#  Shell weight\n",
    "                    ).to_numpy()\n",
    "X_new.reshape(1,-1)"
   ]
  },
  {
   "cell_type": "code",
   "execution_count": 27,
   "id": "6a7ce43d-5a24-4a80-ae19-5308c1696904",
   "metadata": {},
   "outputs": [
    {
     "data": {
      "text/plain": [
       "array([[0.73872656, 0.61165136, 0.8966932 , 0.43996802, 0.98215286,\n",
       "        0.55278684, 0.95291301]])"
      ]
     },
     "execution_count": 27,
     "metadata": {},
     "output_type": "execute_result"
    }
   ],
   "source": [
    "X_new"
   ]
  },
  {
   "cell_type": "code",
   "execution_count": 28,
   "id": "8b741213-bd9c-485d-85d5-ce3b12404a71",
   "metadata": {},
   "outputs": [
    {
     "data": {
      "text/plain": [
       "[14.50483687888283, 8.745708795834243, 9.720447450692077, 10.201420462663535]"
      ]
     },
     "execution_count": 28,
     "metadata": {},
     "output_type": "execute_result"
    }
   ],
   "source": [
    "predictions = []\n",
    "for p in weak_preds:\n",
    "    predictions.append(p.predict(X_new).item())\n",
    "                    \n",
    "predictions   # To view each prediction"
   ]
  },
  {
   "cell_type": "markdown",
   "id": "9b07f01b-b736-4533-a03e-a6d51d6d7011",
   "metadata": {},
   "source": [
    "The following cell is the final prediction from the ensemble."
   ]
  },
  {
   "cell_type": "code",
   "execution_count": 29,
   "id": "72b1cb74-2837-452e-9f5a-a260fa3366cf",
   "metadata": {},
   "outputs": [
    {
     "data": {
      "text/plain": [
       "11.015481874371964"
      ]
     },
     "execution_count": 29,
     "metadata": {},
     "output_type": "execute_result"
    }
   ],
   "source": [
    "#  Numerator\n",
    "weights2 = np.array(weights)\n",
    "numerator = sum(weights2 * predictions)\n",
    "\n",
    "#  Denominator\n",
    "denominator = sum(weights)\n",
    "\n",
    "#  Prediction of the ensemble\n",
    "ens_pred = numerator/denominator\n",
    "ens_pred"
   ]
  }
 ],
 "metadata": {
  "kernelspec": {
   "display_name": "Python 3 (ipykernel)",
   "language": "python",
   "name": "python3"
  },
  "language_info": {
   "codemirror_mode": {
    "name": "ipython",
    "version": 3
   },
   "file_extension": ".py",
   "mimetype": "text/x-python",
   "name": "python",
   "nbconvert_exporter": "python",
   "pygments_lexer": "ipython3",
   "version": "3.9.13"
  }
 },
 "nbformat": 4,
 "nbformat_minor": 5
}
